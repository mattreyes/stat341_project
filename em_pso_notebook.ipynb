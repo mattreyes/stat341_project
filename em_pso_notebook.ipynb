{
 "cells": [
  {
   "cell_type": "code",
   "execution_count": 1,
   "metadata": {
    "collapsed": false
   },
   "outputs": [],
   "source": [
    "# Set up parameters to create data for estimation testing\n",
    "seed <- 23\n",
    "mu1 <- 0\n",
    "mu2 <- 9\n",
    "sd1 <- 1\n",
    "sd2 <- 1\n",
    "pi <- 0.7\n",
    "params <- paste(seed,mu1,mu2,sd1,sd2,pi)"
   ]
  },
  {
   "cell_type": "code",
   "execution_count": 4,
   "metadata": {
    "collapsed": false
   },
   "outputs": [
    {
     "data": {
      "text/html": [
       "<ol class=list-inline>\n",
       "\t<li>\"-0.0597090382166\"</li>\n",
       "\t<li>\"0.699999997242\"</li>\n",
       "\t<li>\"0.9598639732150809\"</li>\n",
       "\t<li>\"8.93523083451\"</li>\n",
       "\t<li>\"0.300000002758\"</li>\n",
       "\t<li>\"0.9662710986143117\"</li>\n",
       "</ol>\n"
      ],
      "text/latex": [
       "\\begin{enumerate*}\n",
       "\\item \"-0.0597090382166\"\n",
       "\\item \"0.699999997242\"\n",
       "\\item \"0.9598639732150809\"\n",
       "\\item \"8.93523083451\"\n",
       "\\item \"0.300000002758\"\n",
       "\\item \"0.9662710986143117\"\n",
       "\\end{enumerate*}\n"
      ],
      "text/markdown": [
       "1. \"-0.0597090382166\"\n",
       "2. \"0.699999997242\"\n",
       "3. \"0.9598639732150809\"\n",
       "4. \"8.93523083451\"\n",
       "5. \"0.300000002758\"\n",
       "6. \"0.9662710986143117\"\n",
       "\n",
       "\n"
      ],
      "text/plain": [
       "[1] \"-0.0597090382166\"   \"0.699999997242\"     \"0.9598639732150809\"\n",
       "[4] \"8.93523083451\"      \"0.300000002758\"     \"0.9662710986143117\""
      ]
     },
     "metadata": {},
     "output_type": "display_data"
    }
   ],
   "source": [
    "# Results from the EM algorithm\n",
    "em_call <- paste(\"python callableEM.py\",params)\n",
    "emResults <- shell(em_call,intern=TRUE)\n",
    "results <- emResults[1:(length(emResults))]\n",
    "estMu1EM <- as.numeric(results[1])\n",
    "estPi1EM <- as.numeric(results[2])\n",
    "estSd1EM <- as.numeric(results[3])\n",
    "estMu2EM <- as.numeric(results[4])\n",
    "estPi2EM <- as.numeric(results[5])\n",
    "estSd1EM <- as.numeric(results[6])\n",
    "results"
   ]
  },
  {
   "cell_type": "code",
   "execution_count": 8,
   "metadata": {
    "collapsed": false
   },
   "outputs": [
    {
     "data": {
      "text/html": [
       "<ol class=list-inline>\n",
       "\t<li>\"0.654534062566\"</li>\n",
       "\t<li>\"0.565784107168\"</li>\n",
       "\t<li>\"1\"</li>\n",
       "\t<li>\"10.05780759\"</li>\n",
       "\t<li>\"0.434215892832\"</li>\n",
       "\t<li>\"1\"</li>\n",
       "</ol>\n"
      ],
      "text/latex": [
       "\\begin{enumerate*}\n",
       "\\item \"0.654534062566\"\n",
       "\\item \"0.565784107168\"\n",
       "\\item \"1\"\n",
       "\\item \"10.05780759\"\n",
       "\\item \"0.434215892832\"\n",
       "\\item \"1\"\n",
       "\\end{enumerate*}\n"
      ],
      "text/markdown": [
       "1. \"0.654534062566\"\n",
       "2. \"0.565784107168\"\n",
       "3. \"1\"\n",
       "4. \"10.05780759\"\n",
       "5. \"0.434215892832\"\n",
       "6. \"1\"\n",
       "\n",
       "\n"
      ],
      "text/plain": [
       "[1] \"0.654534062566\" \"0.565784107168\" \"1\"              \"10.05780759\"   \n",
       "[5] \"0.434215892832\" \"1\"             "
      ]
     },
     "metadata": {},
     "output_type": "display_data"
    }
   ],
   "source": [
    "# Resuls from the PSO algorithm\n",
    "pso_call <- paste(\"python callablePSO.py\",params)\n",
    "psoResults <- shell(pso_call,intern=TRUE)\n",
    "results <- psoResults[1:(length(psoResults))]\n",
    "estMu1PSO <- as.numeric(results[1])\n",
    "estPi1PSO <- as.numeric(results[2])\n",
    "estSd1PSO <- as.numeric(results[3])\n",
    "estMu2PSO <- as.numeric(results[4])\n",
    "estPi2PSO <- as.numeric(results[5])\n",
    "estSd1PSO <- as.numeric(results[6])\n",
    "results"
   ]
  },
  {
   "cell_type": "code",
   "execution_count": 70,
   "metadata": {
    "collapsed": false
   },
   "outputs": [],
   "source": [
    "# Monte Carl9o simulation\n",
    "\n",
    "M <- 5\n",
    "\n",
    "\n",
    "truMu1 <- numeric(M)\n",
    "truPi1 <- numeric(M)\n",
    "truSd1 <- numeric(M)\n",
    "truMu2 <- numeric(M)\n",
    "truPi2 <- numeric(M)\n",
    "truSd2 <- numeric(M)\n",
    "\n",
    "\n",
    "estMu1EM <- numeric(M)\n",
    "estPi1EM <- numeric(M)\n",
    "estSd1EM <- numeric(M)\n",
    "estMu2EM <- numeric(M)\n",
    "estPi2EM <- numeric(M)\n",
    "estSd2EM <- numeric(M)\n",
    "\n",
    "estMu1PSO <- numeric(M)\n",
    "estPi1PSO <- numeric(M)\n",
    "estSd1PSO <- numeric(M)\n",
    "estMu2PSO <- numeric(M)\n",
    "estPi2PSO <- numeric(M)\n",
    "estSd2PSO <- numeric(M)\n",
    "\n",
    "for(i in seq(1,M) ) {\n",
    "    seed <- round(runif(n=1,min=1,max=100))\n",
    "    mu1 <- round(runif(n=1,min=0,max=10),digits=2)\n",
    "    mu2 <- round(runif(n=1,min=11,max=20),digits=2)\n",
    "    sd1 <- round(runif(n=1,min=1,max=3),digits=2)\n",
    "    sd2 <- sd1\n",
    "    pi <- round(runif(n=1,min=0.61,max=0.89),digits=2)\n",
    "    params <- paste(seed,mu1,mu2,sd1,sd2,pi)\n",
    "   \n",
    "    truMu1[i] <- mu1\n",
    "    truMu2[i] <- mu2\n",
    "    truPi1[i] <- pi \n",
    "    truPi2[i] <- 1 - pi\n",
    "    truSd1[i] <- sd1\n",
    "    truSd2[i] <- sd2\n",
    "\n",
    "    em_call <- paste(\"python callableEM.py\",params)\n",
    "    emResults <- shell(em_call,intern=TRUE)\n",
    "    results <- emResults[1:(length(emResults))]\n",
    "    estMu1EM[i] <- as.numeric(results[1])\n",
    "    estPi1EM[i] <- as.numeric(results[2])\n",
    "    estSd1EM[i] <- as.numeric(results[3])\n",
    "    estMu2EM[i] <- as.numeric(results[4])\n",
    "    estPi2EM[i] <- as.numeric(results[5])\n",
    "    estSd2EM[i] <- as.numeric(results[6])\n",
    "\n",
    "    pso_call <- paste(\"python callablePSO.py\",params)\n",
    "    psoResults <- shell(pso_call,intern=TRUE)\n",
    "    results <- psoResults[1:(length(psoResults))]\n",
    "    estMu1PSO[i] <- as.numeric(results[1])\n",
    "    estPi1PSO[i] <- as.numeric(results[2])\n",
    "    estSd1PSO[i] <- as.numeric(results[3])\n",
    "    estMu2PSO[i] <- as.numeric(results[4])\n",
    "    estPi2PSO[i] <- as.numeric(results[5])\n",
    "    estSd2PSO[i] <- as.numeric(results[6])\n",
    "}"
   ]
  },
  {
   "cell_type": "code",
   "execution_count": 71,
   "metadata": {
    "collapsed": false
   },
   "outputs": [
    {
     "name": "stdout",
     "output_type": "stream",
     "text": [
      "[1] \"True Means\"\n"
     ]
    },
    {
     "data": {
      "text/html": [
       "<ol class=list-inline>\n",
       "\t<li>7.24</li>\n",
       "\t<li>8.94</li>\n",
       "\t<li>3.89</li>\n",
       "\t<li>7.06</li>\n",
       "\t<li>0.45</li>\n",
       "</ol>\n"
      ],
      "text/latex": [
       "\\begin{enumerate*}\n",
       "\\item 7.24\n",
       "\\item 8.94\n",
       "\\item 3.89\n",
       "\\item 7.06\n",
       "\\item 0.45\n",
       "\\end{enumerate*}\n"
      ],
      "text/markdown": [
       "1. 7.24\n",
       "2. 8.94\n",
       "3. 3.89\n",
       "4. 7.06\n",
       "5. 0.45\n",
       "\n",
       "\n"
      ],
      "text/plain": [
       "[1] 7.24 8.94 3.89 7.06 0.45"
      ]
     },
     "metadata": {},
     "output_type": "display_data"
    },
    {
     "data": {
      "text/html": [
       "<ol class=list-inline>\n",
       "\t<li>13.65</li>\n",
       "\t<li>16.01</li>\n",
       "\t<li>14</li>\n",
       "\t<li>16.26</li>\n",
       "\t<li>19.31</li>\n",
       "</ol>\n"
      ],
      "text/latex": [
       "\\begin{enumerate*}\n",
       "\\item 13.65\n",
       "\\item 16.01\n",
       "\\item 14\n",
       "\\item 16.26\n",
       "\\item 19.31\n",
       "\\end{enumerate*}\n"
      ],
      "text/markdown": [
       "1. 13.65\n",
       "2. 16.01\n",
       "3. 14\n",
       "4. 16.26\n",
       "5. 19.31\n",
       "\n",
       "\n"
      ],
      "text/plain": [
       "[1] 13.65 16.01 14.00 16.26 19.31"
      ]
     },
     "metadata": {},
     "output_type": "display_data"
    },
    {
     "name": "stdout",
     "output_type": "stream",
     "text": [
      "[1] \"True Pi\"\n"
     ]
    },
    {
     "data": {
      "text/html": [
       "<ol class=list-inline>\n",
       "\t<li>0.78</li>\n",
       "\t<li>0.79</li>\n",
       "\t<li>0.65</li>\n",
       "\t<li>0.66</li>\n",
       "\t<li>0.63</li>\n",
       "</ol>\n"
      ],
      "text/latex": [
       "\\begin{enumerate*}\n",
       "\\item 0.78\n",
       "\\item 0.79\n",
       "\\item 0.65\n",
       "\\item 0.66\n",
       "\\item 0.63\n",
       "\\end{enumerate*}\n"
      ],
      "text/markdown": [
       "1. 0.78\n",
       "2. 0.79\n",
       "3. 0.65\n",
       "4. 0.66\n",
       "5. 0.63\n",
       "\n",
       "\n"
      ],
      "text/plain": [
       "[1] 0.78 0.79 0.65 0.66 0.63"
      ]
     },
     "metadata": {},
     "output_type": "display_data"
    },
    {
     "data": {
      "text/html": [
       "<ol class=list-inline>\n",
       "\t<li>0.22</li>\n",
       "\t<li>0.21</li>\n",
       "\t<li>0.35</li>\n",
       "\t<li>0.34</li>\n",
       "\t<li>0.37</li>\n",
       "</ol>\n"
      ],
      "text/latex": [
       "\\begin{enumerate*}\n",
       "\\item 0.22\n",
       "\\item 0.21\n",
       "\\item 0.35\n",
       "\\item 0.34\n",
       "\\item 0.37\n",
       "\\end{enumerate*}\n"
      ],
      "text/markdown": [
       "1. 0.22\n",
       "2. 0.21\n",
       "3. 0.35\n",
       "4. 0.34\n",
       "5. 0.37\n",
       "\n",
       "\n"
      ],
      "text/plain": [
       "[1] 0.22 0.21 0.35 0.34 0.37"
      ]
     },
     "metadata": {},
     "output_type": "display_data"
    },
    {
     "name": "stdout",
     "output_type": "stream",
     "text": [
      "[1] \"EM Means\"\n"
     ]
    },
    {
     "data": {
      "text/html": [
       "<ol class=list-inline>\n",
       "\t<li>7.27103408088</li>\n",
       "\t<li>8.9141361366</li>\n",
       "\t<li>3.9592831001</li>\n",
       "\t<li>7.12751616791</li>\n",
       "\t<li>0.473663093947</li>\n",
       "</ol>\n"
      ],
      "text/latex": [
       "\\begin{enumerate*}\n",
       "\\item 7.27103408088\n",
       "\\item 8.9141361366\n",
       "\\item 3.9592831001\n",
       "\\item 7.12751616791\n",
       "\\item 0.473663093947\n",
       "\\end{enumerate*}\n"
      ],
      "text/markdown": [
       "1. 7.27103408088\n",
       "2. 8.9141361366\n",
       "3. 3.9592831001\n",
       "4. 7.12751616791\n",
       "5. 0.473663093947\n",
       "\n",
       "\n"
      ],
      "text/plain": [
       "[1] 7.2710341 8.9141361 3.9592831 7.1275162 0.4736631"
      ]
     },
     "metadata": {},
     "output_type": "display_data"
    },
    {
     "data": {
      "text/html": [
       "<ol class=list-inline>\n",
       "\t<li>13.9058236277</li>\n",
       "\t<li>15.7707649479</li>\n",
       "\t<li>13.961687782</li>\n",
       "\t<li>15.9682678002</li>\n",
       "\t<li>19.2245397014</li>\n",
       "</ol>\n"
      ],
      "text/latex": [
       "\\begin{enumerate*}\n",
       "\\item 13.9058236277\n",
       "\\item 15.7707649479\n",
       "\\item 13.961687782\n",
       "\\item 15.9682678002\n",
       "\\item 19.2245397014\n",
       "\\end{enumerate*}\n"
      ],
      "text/markdown": [
       "1. 13.9058236277\n",
       "2. 15.7707649479\n",
       "3. 13.961687782\n",
       "4. 15.9682678002\n",
       "5. 19.2245397014\n",
       "\n",
       "\n"
      ],
      "text/plain": [
       "[1] 13.90582 15.77076 13.96169 15.96827 19.22454"
      ]
     },
     "metadata": {},
     "output_type": "display_data"
    },
    {
     "name": "stdout",
     "output_type": "stream",
     "text": [
      "[1] \"EM pi\"\n"
     ]
    },
    {
     "data": {
      "text/html": [
       "<ol class=list-inline>\n",
       "\t<li>0.788647901557</li>\n",
       "\t<li>0.784575580854</li>\n",
       "\t<li>0.644954482494</li>\n",
       "\t<li>0.656161946171</li>\n",
       "\t<li>0.630000233333</li>\n",
       "</ol>\n"
      ],
      "text/latex": [
       "\\begin{enumerate*}\n",
       "\\item 0.788647901557\n",
       "\\item 0.784575580854\n",
       "\\item 0.644954482494\n",
       "\\item 0.656161946171\n",
       "\\item 0.630000233333\n",
       "\\end{enumerate*}\n"
      ],
      "text/markdown": [
       "1. 0.788647901557\n",
       "2. 0.784575580854\n",
       "3. 0.644954482494\n",
       "4. 0.656161946171\n",
       "5. 0.630000233333\n",
       "\n",
       "\n"
      ],
      "text/plain": [
       "[1] 0.7886479 0.7845756 0.6449545 0.6561619 0.6300002"
      ]
     },
     "metadata": {},
     "output_type": "display_data"
    },
    {
     "data": {
      "text/html": [
       "<ol class=list-inline>\n",
       "\t<li>0.211352098443</li>\n",
       "\t<li>0.215424419146</li>\n",
       "\t<li>0.355045517506</li>\n",
       "\t<li>0.343838053829</li>\n",
       "\t<li>0.369999766667</li>\n",
       "</ol>\n"
      ],
      "text/latex": [
       "\\begin{enumerate*}\n",
       "\\item 0.211352098443\n",
       "\\item 0.215424419146\n",
       "\\item 0.355045517506\n",
       "\\item 0.343838053829\n",
       "\\item 0.369999766667\n",
       "\\end{enumerate*}\n"
      ],
      "text/markdown": [
       "1. 0.211352098443\n",
       "2. 0.215424419146\n",
       "3. 0.355045517506\n",
       "4. 0.343838053829\n",
       "5. 0.369999766667\n",
       "\n",
       "\n"
      ],
      "text/plain": [
       "[1] 0.2113521 0.2154244 0.3550455 0.3438381 0.3699998"
      ]
     },
     "metadata": {},
     "output_type": "display_data"
    },
    {
     "name": "stdout",
     "output_type": "stream",
     "text": [
      "[1] \"PSO Means\"\n"
     ]
    },
    {
     "data": {
      "text/html": [
       "<ol class=list-inline>\n",
       "\t<li>7.06325327964</li>\n",
       "\t<li>8.89729794553</li>\n",
       "\t<li>11.4573183081</li>\n",
       "\t<li>13.8348004698</li>\n",
       "\t<li>20.9747844097</li>\n",
       "</ol>\n"
      ],
      "text/latex": [
       "\\begin{enumerate*}\n",
       "\\item 7.06325327964\n",
       "\\item 8.89729794553\n",
       "\\item 11.4573183081\n",
       "\\item 13.8348004698\n",
       "\\item 20.9747844097\n",
       "\\end{enumerate*}\n"
      ],
      "text/markdown": [
       "1. 7.06325327964\n",
       "2. 8.89729794553\n",
       "3. 11.4573183081\n",
       "4. 13.8348004698\n",
       "5. 20.9747844097\n",
       "\n",
       "\n"
      ],
      "text/plain": [
       "[1]  7.063253  8.897298 11.457318 13.834800 20.974784"
      ]
     },
     "metadata": {},
     "output_type": "display_data"
    },
    {
     "data": {
      "text/html": [
       "<ol class=list-inline>\n",
       "\t<li>14.9418587081</li>\n",
       "\t<li>17.6834025445</li>\n",
       "\t<li>4.09404952153</li>\n",
       "\t<li>6.8092572174</li>\n",
       "\t<li>-0.177207459527</li>\n",
       "</ol>\n"
      ],
      "text/latex": [
       "\\begin{enumerate*}\n",
       "\\item 14.9418587081\n",
       "\\item 17.6834025445\n",
       "\\item 4.09404952153\n",
       "\\item 6.8092572174\n",
       "\\item -0.177207459527\n",
       "\\end{enumerate*}\n"
      ],
      "text/markdown": [
       "1. 14.9418587081\n",
       "2. 17.6834025445\n",
       "3. 4.09404952153\n",
       "4. 6.8092572174\n",
       "5. -0.177207459527\n",
       "\n",
       "\n"
      ],
      "text/plain": [
       "[1] 14.9418587 17.6834025  4.0940495  6.8092572 -0.1772075"
      ]
     },
     "metadata": {},
     "output_type": "display_data"
    },
    {
     "name": "stdout",
     "output_type": "stream",
     "text": [
      "[1] \"PSO pi\"\n"
     ]
    },
    {
     "data": {
      "text/html": [
       "<ol class=list-inline>\n",
       "\t<li>0.978297957855</li>\n",
       "\t<li>0.703750838328</li>\n",
       "\t<li>0.58431044138</li>\n",
       "\t<li>0.58431044138</li>\n",
       "\t<li>0.862965291926</li>\n",
       "</ol>\n"
      ],
      "text/latex": [
       "\\begin{enumerate*}\n",
       "\\item 0.978297957855\n",
       "\\item 0.703750838328\n",
       "\\item 0.58431044138\n",
       "\\item 0.58431044138\n",
       "\\item 0.862965291926\n",
       "\\end{enumerate*}\n"
      ],
      "text/markdown": [
       "1. 0.978297957855\n",
       "2. 0.703750838328\n",
       "3. 0.58431044138\n",
       "4. 0.58431044138\n",
       "5. 0.862965291926\n",
       "\n",
       "\n"
      ],
      "text/plain": [
       "[1] 0.9782980 0.7037508 0.5843104 0.5843104 0.8629653"
      ]
     },
     "metadata": {},
     "output_type": "display_data"
    },
    {
     "data": {
      "text/html": [
       "<ol class=list-inline>\n",
       "\t<li>0.0217020421445</li>\n",
       "\t<li>0.296249161672</li>\n",
       "\t<li>0.41568955862</li>\n",
       "\t<li>0.41568955862</li>\n",
       "\t<li>0.137034708074</li>\n",
       "</ol>\n"
      ],
      "text/latex": [
       "\\begin{enumerate*}\n",
       "\\item 0.0217020421445\n",
       "\\item 0.296249161672\n",
       "\\item 0.41568955862\n",
       "\\item 0.41568955862\n",
       "\\item 0.137034708074\n",
       "\\end{enumerate*}\n"
      ],
      "text/markdown": [
       "1. 0.0217020421445\n",
       "2. 0.296249161672\n",
       "3. 0.41568955862\n",
       "4. 0.41568955862\n",
       "5. 0.137034708074\n",
       "\n",
       "\n"
      ],
      "text/plain": [
       "[1] 0.02170204 0.29624916 0.41568956 0.41568956 0.13703471"
      ]
     },
     "metadata": {},
     "output_type": "display_data"
    }
   ],
   "source": [
    "print(\"True Means\")\n",
    "truMu1\n",
    "truMu2\n",
    "\n",
    "print(\"True Pi\")\n",
    "truPi1\n",
    "truPi2\n",
    "\n",
    "print(\"EM Means\")\n",
    "estMu1EM\n",
    "estMu2EM\n",
    "print(\"EM pi\")\n",
    "estPi1EM\n",
    "estPi2EM\n",
    "print(\"PSO Means\")\n",
    "estMu1PSO\n",
    "estMu2PSO\n",
    "print(\"PSO pi\")\n",
    "estPi1PSO\n",
    "estPi2PSO\n",
    "\n"
   ]
  },
  {
   "cell_type": "code",
   "execution_count": 72,
   "metadata": {
    "collapsed": false
   },
   "outputs": [
    {
     "data": {
      "text/html": [
       "<ol class=list-inline>\n",
       "\t<li>1.7</li>\n",
       "\t<li>1.91</li>\n",
       "\t<li>2.6</li>\n",
       "\t<li>2.44</li>\n",
       "\t<li>2.4</li>\n",
       "</ol>\n"
      ],
      "text/latex": [
       "\\begin{enumerate*}\n",
       "\\item 1.7\n",
       "\\item 1.91\n",
       "\\item 2.6\n",
       "\\item 2.44\n",
       "\\item 2.4\n",
       "\\end{enumerate*}\n"
      ],
      "text/markdown": [
       "1. 1.7\n",
       "2. 1.91\n",
       "3. 2.6\n",
       "4. 2.44\n",
       "5. 2.4\n",
       "\n",
       "\n"
      ],
      "text/plain": [
       "[1] 1.70 1.91 2.60 2.44 2.40"
      ]
     },
     "metadata": {},
     "output_type": "display_data"
    },
    {
     "data": {
      "text/html": [
       "<ol class=list-inline>\n",
       "\t<li>1.7</li>\n",
       "\t<li>1.91</li>\n",
       "\t<li>2.6</li>\n",
       "\t<li>2.44</li>\n",
       "\t<li>2.4</li>\n",
       "</ol>\n"
      ],
      "text/latex": [
       "\\begin{enumerate*}\n",
       "\\item 1.7\n",
       "\\item 1.91\n",
       "\\item 2.6\n",
       "\\item 2.44\n",
       "\\item 2.4\n",
       "\\end{enumerate*}\n"
      ],
      "text/markdown": [
       "1. 1.7\n",
       "2. 1.91\n",
       "3. 2.6\n",
       "4. 2.44\n",
       "5. 2.4\n",
       "\n",
       "\n"
      ],
      "text/plain": [
       "[1] 1.70 1.91 2.60 2.44 2.40"
      ]
     },
     "metadata": {},
     "output_type": "display_data"
    }
   ],
   "source": [
    "truSd1\n",
    "truSd2"
   ]
  },
  {
   "cell_type": "code",
   "execution_count": 77,
   "metadata": {
    "collapsed": false
   },
   "outputs": [
    {
     "name": "stdout",
     "output_type": "stream",
     "text": [
      "[1] \"EM\"\n"
     ]
    },
    {
     "data": {
      "text/html": [
       "0.0434720612473998"
      ],
      "text/latex": [
       "0.0434720612473998"
      ],
      "text/markdown": [
       "0.0434720612473998"
      ],
      "text/plain": [
       "[1] 0.04347206"
      ]
     },
     "metadata": {},
     "output_type": "display_data"
    },
    {
     "data": {
      "text/html": [
       "0.00459122507420002"
      ],
      "text/latex": [
       "0.00459122507420002"
      ],
      "text/markdown": [
       "0.00459122507420002"
      ],
      "text/plain": [
       "[1] 0.004591225"
      ]
     },
     "metadata": {},
     "output_type": "display_data"
    },
    {
     "data": {
      "text/html": [
       "0.18211267924"
      ],
      "text/latex": [
       "0.18211267924"
      ],
      "text/markdown": [
       "0.18211267924"
      ],
      "text/plain": [
       "[1] 0.1821127"
      ]
     },
     "metadata": {},
     "output_type": "display_data"
    },
    {
     "data": {
      "text/html": [
       "0.00459122507420001"
      ],
      "text/latex": [
       "0.00459122507420001"
      ],
      "text/markdown": [
       "0.00459122507420001"
      ],
      "text/plain": [
       "[1] 0.004591225"
      ]
     },
     "metadata": {},
     "output_type": "display_data"
    },
    {
     "name": "stdout",
     "output_type": "stream",
     "text": [
      "[1] \"PSO\"\n"
     ]
    },
    {
     "data": {
      "text/html": [
       "7.017270392486"
      ],
      "text/latex": [
       "7.017270392486"
      ],
      "text/markdown": [
       "7.017270392486"
      ],
      "text/plain": [
       "[1] 7.01727"
      ]
     },
     "metadata": {},
     "output_type": "display_data"
    },
    {
     "data": {
      "text/html": [
       "0.1317783057386"
      ],
      "text/latex": [
       "0.1317783057386"
      ],
      "text/markdown": [
       "0.1317783057386"
      ],
      "text/plain": [
       "[1] 0.1317783"
      ]
     },
     "metadata": {},
     "output_type": "display_data"
    },
    {
     "data": {
      "text/html": [
       "8.3618323946394"
      ],
      "text/latex": [
       "8.3618323946394"
      ],
      "text/markdown": [
       "8.3618323946394"
      ],
      "text/plain": [
       "[1] 8.361832"
      ]
     },
     "metadata": {},
     "output_type": "display_data"
    },
    {
     "data": {
      "text/html": [
       "0.1317783057387"
      ],
      "text/latex": [
       "0.1317783057387"
      ],
      "text/markdown": [
       "0.1317783057387"
      ],
      "text/plain": [
       "[1] 0.1317783"
      ]
     },
     "metadata": {},
     "output_type": "display_data"
    }
   ],
   "source": [
    "print(\"EM\")\n",
    "mean(abs(truMu1 - estMu1EM))\n",
    "mean(abs(truPi1 - estPi1EM))\n",
    "# mean(abs(truSd1 - estSd1EM))\n",
    "mean(abs(truMu2 - estMu2EM))\n",
    "mean(abs(truPi2 - estPi2EM))\n",
    "# mean(abs(truSd2 - estSd2EM))\n",
    "\n",
    "print(\"PSO\")\n",
    "mean(abs(truMu1 - estMu1PSO ))\n",
    "mean(abs(truPi1 - estPi1PSO ))\n",
    "# mean(abs(truSd1 - estSd1PSO ))\n",
    "mean(abs(truMu2 - estMu2PSO ))\n",
    "mean(abs(truPi2 - estPi2PSO ))\n",
    "# mean(abs(truSd2 - estSd2PSO ))"
   ]
  },
  {
   "cell_type": "code",
   "execution_count": null,
   "metadata": {
    "collapsed": true
   },
   "outputs": [],
   "source": []
  },
  {
   "cell_type": "code",
   "execution_count": null,
   "metadata": {
    "collapsed": true
   },
   "outputs": [],
   "source": []
  },
  {
   "cell_type": "code",
   "execution_count": null,
   "metadata": {
    "collapsed": true
   },
   "outputs": [],
   "source": []
  }
 ],
 "metadata": {
  "kernelspec": {
   "display_name": "R",
   "language": "R",
   "name": "ir"
  },
  "language_info": {
   "codemirror_mode": "r",
   "file_extension": ".r",
   "mimetype": "text/x-r-source",
   "name": "R",
   "pygments_lexer": "r",
   "version": "3.3.1"
  }
 },
 "nbformat": 4,
 "nbformat_minor": 1
}
