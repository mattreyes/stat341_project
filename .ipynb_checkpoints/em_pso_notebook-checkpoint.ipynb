{
 "cells": [
  {
   "cell_type": "code",
   "execution_count": 82,
   "metadata": {
    "collapsed": false
   },
   "outputs": [],
   "source": [
    "# Set up parameters to create data for estimation testing\n",
    "seed <- 23\n",
    "mu1 <- 0\n",
    "mu2 <- 9\n",
    "sd1 <- 1\n",
    "sd2 <- 1\n",
    "pi <- 0.7\n",
    "params <- paste(seed,mu1,mu2,sd1,sd2,pi)"
   ]
  },
  {
   "cell_type": "code",
   "execution_count": 83,
   "metadata": {
    "collapsed": false
   },
   "outputs": [
    {
     "data": {
      "text/html": [
       "<ol class=list-inline>\n",
       "\t<li>\"-0.0597090382166\"</li>\n",
       "\t<li>\"0.699999997242\"</li>\n",
       "\t<li>\"0.9598639732150809\"</li>\n",
       "\t<li>\"8.93523083451\"</li>\n",
       "\t<li>\"0.300000002758\"</li>\n",
       "\t<li>\"0.9662710986143117\"</li>\n",
       "</ol>\n"
      ],
      "text/latex": [
       "\\begin{enumerate*}\n",
       "\\item \"-0.0597090382166\"\n",
       "\\item \"0.699999997242\"\n",
       "\\item \"0.9598639732150809\"\n",
       "\\item \"8.93523083451\"\n",
       "\\item \"0.300000002758\"\n",
       "\\item \"0.9662710986143117\"\n",
       "\\end{enumerate*}\n"
      ],
      "text/markdown": [
       "1. \"-0.0597090382166\"\n",
       "2. \"0.699999997242\"\n",
       "3. \"0.9598639732150809\"\n",
       "4. \"8.93523083451\"\n",
       "5. \"0.300000002758\"\n",
       "6. \"0.9662710986143117\"\n",
       "\n",
       "\n"
      ],
      "text/plain": [
       "[1] \"-0.0597090382166\"   \"0.699999997242\"     \"0.9598639732150809\"\n",
       "[4] \"8.93523083451\"      \"0.300000002758\"     \"0.9662710986143117\""
      ]
     },
     "metadata": {},
     "output_type": "display_data"
    }
   ],
   "source": [
    "# Results from the EM algorithm\n",
    "em_call <- paste(\"python callableEM.py\",params)\n",
    "emResults <- shell(em_call,intern=TRUE)\n",
    "results <- emResults[1:(length(emResults))]\n",
    "estMu1EM <- as.numeric(results[1])\n",
    "estPi1EM <- as.numeric(results[2])\n",
    "estSd1EM <- as.numeric(results[3])\n",
    "estMu2EM <- as.numeric(results[4])\n",
    "estPi2EM <- as.numeric(results[5])\n",
    "estSd1EM <- as.numeric(results[6])\n",
    "results"
   ]
  },
  {
   "cell_type": "code",
   "execution_count": 84,
   "metadata": {
    "collapsed": false
   },
   "outputs": [
    {
     "data": {
      "text/html": [
       "<ol class=list-inline>\n",
       "\t<li>\"2.38725211368\"</li>\n",
       "\t<li>\"0.703750838328\"</li>\n",
       "\t<li>\"1\"</li>\n",
       "\t<li>\"8.90136774002\"</li>\n",
       "\t<li>\"0.296249161672\"</li>\n",
       "\t<li>\"1\"</li>\n",
       "</ol>\n"
      ],
      "text/latex": [
       "\\begin{enumerate*}\n",
       "\\item \"2.38725211368\"\n",
       "\\item \"0.703750838328\"\n",
       "\\item \"1\"\n",
       "\\item \"8.90136774002\"\n",
       "\\item \"0.296249161672\"\n",
       "\\item \"1\"\n",
       "\\end{enumerate*}\n"
      ],
      "text/markdown": [
       "1. \"2.38725211368\"\n",
       "2. \"0.703750838328\"\n",
       "3. \"1\"\n",
       "4. \"8.90136774002\"\n",
       "5. \"0.296249161672\"\n",
       "6. \"1\"\n",
       "\n",
       "\n"
      ],
      "text/plain": [
       "[1] \"2.38725211368\"  \"0.703750838328\" \"1\"              \"8.90136774002\" \n",
       "[5] \"0.296249161672\" \"1\"             "
      ]
     },
     "metadata": {},
     "output_type": "display_data"
    }
   ],
   "source": [
    "# Resuls from the PSO algorithm\n",
    "pso_call <- paste(\"python callablePSO.py\",params)\n",
    "psoResults <- shell(pso_call,intern=TRUE)\n",
    "results <- psoResults[1:(length(psoResults))]\n",
    "estMu1PSO <- as.numeric(results[1])\n",
    "estPi1PSO <- as.numeric(results[2])\n",
    "estSd1PSO <- as.numeric(results[3])\n",
    "estMu2PSO <- as.numeric(results[4])\n",
    "estPi2PSO <- as.numeric(results[5])\n",
    "estSd1PSO <- as.numeric(results[6])\n",
    "results"
   ]
  },
  {
   "cell_type": "code",
   "execution_count": null,
   "metadata": {
    "collapsed": false
   },
   "outputs": [],
   "source": []
  },
  {
   "cell_type": "code",
   "execution_count": 72,
   "metadata": {
    "collapsed": false
   },
   "outputs": [],
   "source": [
    "\n"
   ]
  },
  {
   "cell_type": "code",
   "execution_count": null,
   "metadata": {
    "collapsed": false
   },
   "outputs": [],
   "source": []
  },
  {
   "cell_type": "code",
   "execution_count": null,
   "metadata": {
    "collapsed": false
   },
   "outputs": [],
   "source": []
  },
  {
   "cell_type": "code",
   "execution_count": null,
   "metadata": {
    "collapsed": true
   },
   "outputs": [],
   "source": []
  }
 ],
 "metadata": {
  "anaconda-cloud": {},
  "kernelspec": {
   "display_name": "R",
   "language": "R",
   "name": "ir"
  },
  "language_info": {
   "codemirror_mode": "r",
   "file_extension": ".r",
   "mimetype": "text/x-r-source",
   "name": "R",
   "pygments_lexer": "r",
   "version": "3.1.3"
  }
 },
 "nbformat": 4,
 "nbformat_minor": 1
}
