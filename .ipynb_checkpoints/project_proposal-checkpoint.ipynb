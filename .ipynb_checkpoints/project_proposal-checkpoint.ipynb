{
 "cells": [
  {
   "cell_type": "markdown",
   "metadata": {},
   "source": [
    "\n",
    "# Gaussian Mixture Model Density Estimation with Particle Swarm Optimization\n"
   ]
  },
  {
   "cell_type": "markdown",
   "metadata": {},
   "source": [
    "Proposal:\n",
    "\n",
    "We propose to implement and test a particle swarm optimization algoithm developed by researchers James Kennedy and Russell Eberhart in 1995. It is inspired by swarm behaviour seen in nature such as in bee colonies and schools of fish. \n",
    "\n",
    "The aim of this project is to compare this PSO algorithm to other numerical methods for optimization touched on in class - particularly the Expectation Maximization (EM) algorithm. We will begin by implementing a simplified univariate version of the problem in which there are two Gaussian components each with known mean and variance values, so only each component's weight $\\pi$ and $1-\\pi$ would need to be estimated.\n",
    "\n",
    "Once this has been implemented we will extend the algorithm to estimate the mean, variance, and weights for a two component system. If time permits we will implement the algorithm to estimate the parameters for $G$ components. \n",
    "\n",
    "The comparison between EM and PSO will revolve around determining the number of iterations required for convergence, accuaracy, and comparing runtimes. We may explore special cases where EM fails to converge.\n"
   ]
  },
  {
   "cell_type": "markdown",
   "metadata": {},
   "source": [
    "## References:  \n",
    "\n",
    "Introducing Monte Carlo Methods with R (Springer-Verlag)\n",
    "\n",
    "Original 1995 paper detailing PSO:\n",
    "http://www.cs.tufts.edu/comp/150GA/homeworks/hw3/_reading6%201995%20particle%20swarming.pdf\n",
    "\n",
    "Additional - Course Notes:\n",
    "http://www.cs.cmu.edu/~awm/10701/assignments/EM.pdf\n",
    "\n",
    "Additional - Documentation for 'mixture' R package:\n",
    "http://cran.espol.edu.ec/web/packages/mixture/mixture.pdf"
   ]
  }
 ],
 "metadata": {
  "kernelspec": {
   "display_name": "Python 3",
   "language": "python",
   "name": "python3"
  },
  "language_info": {
   "codemirror_mode": {
    "name": "ipython",
    "version": 3
   },
   "file_extension": ".py",
   "mimetype": "text/x-python",
   "name": "python",
   "nbconvert_exporter": "python",
   "pygments_lexer": "ipython3",
   "version": "3.5.1"
  }
 },
 "nbformat": 4,
 "nbformat_minor": 1
}
