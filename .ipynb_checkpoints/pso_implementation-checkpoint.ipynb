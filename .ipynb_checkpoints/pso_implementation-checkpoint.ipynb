{
 "cells": [
  {
   "cell_type": "code",
   "execution_count": 59,
   "metadata": {
    "collapsed": false
   },
   "outputs": [
    {
     "ename": "ImportError",
     "evalue": "cannot import name 'QtCore'",
     "output_type": "error",
     "traceback": [
      "\u001b[0;31m---------------------------------------------------------------------------\u001b[0m",
      "\u001b[0;31mImportError\u001b[0m                               Traceback (most recent call last)",
      "\u001b[0;32m<ipython-input-59-33839a850ca3>\u001b[0m in \u001b[0;36m<module>\u001b[0;34m()\u001b[0m\n\u001b[1;32m      4\u001b[0m \u001b[1;32mfrom\u001b[0m \u001b[0moperator\u001b[0m \u001b[1;32mimport\u001b[0m \u001b[0mattrgetter\u001b[0m\u001b[1;33m\u001b[0m\u001b[0m\n\u001b[1;32m      5\u001b[0m \u001b[1;32mimport\u001b[0m \u001b[0mmath\u001b[0m\u001b[1;33m\u001b[0m\u001b[0m\n\u001b[0;32m----> 6\u001b[0;31m \u001b[1;32mfrom\u001b[0m \u001b[0mmatplotlib\u001b[0m \u001b[1;32mimport\u001b[0m \u001b[0mpyplot\u001b[0m \u001b[1;32mas\u001b[0m \u001b[0mplt\u001b[0m\u001b[1;33m\u001b[0m\u001b[0m\n\u001b[0m\u001b[1;32m      7\u001b[0m \u001b[1;32mimport\u001b[0m \u001b[0mmatplotlib\u001b[0m\u001b[1;33m\u001b[0m\u001b[0m\n\u001b[1;32m      8\u001b[0m \u001b[1;31m# %matplotlib inline\u001b[0m\u001b[1;33m\u001b[0m\u001b[1;33m\u001b[0m\u001b[0m\n",
      "\u001b[0;32mC:\\Users\\Matthew\\Anaconda3\\lib\\site-packages\\matplotlib\\pyplot.py\u001b[0m in \u001b[0;36m<module>\u001b[0;34m()\u001b[0m\n\u001b[1;32m    107\u001b[0m \u001b[1;33m\u001b[0m\u001b[0m\n\u001b[1;32m    108\u001b[0m \u001b[1;32mfrom\u001b[0m \u001b[0mmatplotlib\u001b[0m\u001b[1;33m.\u001b[0m\u001b[0mbackends\u001b[0m \u001b[1;32mimport\u001b[0m \u001b[0mpylab_setup\u001b[0m\u001b[1;33m\u001b[0m\u001b[0m\n\u001b[0;32m--> 109\u001b[0;31m \u001b[0m_backend_mod\u001b[0m\u001b[1;33m,\u001b[0m \u001b[0mnew_figure_manager\u001b[0m\u001b[1;33m,\u001b[0m \u001b[0mdraw_if_interactive\u001b[0m\u001b[1;33m,\u001b[0m \u001b[0m_show\u001b[0m \u001b[1;33m=\u001b[0m \u001b[0mpylab_setup\u001b[0m\u001b[1;33m(\u001b[0m\u001b[1;33m)\u001b[0m\u001b[1;33m\u001b[0m\u001b[0m\n\u001b[0m\u001b[1;32m    110\u001b[0m \u001b[1;33m\u001b[0m\u001b[0m\n\u001b[1;32m    111\u001b[0m \u001b[1;33m\u001b[0m\u001b[0m\n",
      "\u001b[0;32mC:\\Users\\Matthew\\Anaconda3\\lib\\site-packages\\matplotlib\\backends\\__init__.py\u001b[0m in \u001b[0;36mpylab_setup\u001b[0;34m()\u001b[0m\n\u001b[1;32m     30\u001b[0m     \u001b[1;31m# imports. 0 means only perform absolute imports.\u001b[0m\u001b[1;33m\u001b[0m\u001b[1;33m\u001b[0m\u001b[0m\n\u001b[1;32m     31\u001b[0m     backend_mod = __import__(backend_name,\n\u001b[0;32m---> 32\u001b[0;31m                              globals(),locals(),[backend_name],0)\n\u001b[0m\u001b[1;32m     33\u001b[0m \u001b[1;33m\u001b[0m\u001b[0m\n\u001b[1;32m     34\u001b[0m     \u001b[1;31m# Things we pull in from all backends\u001b[0m\u001b[1;33m\u001b[0m\u001b[1;33m\u001b[0m\u001b[0m\n",
      "\u001b[0;32mC:\\Users\\Matthew\\Anaconda3\\lib\\site-packages\\matplotlib\\backends\\backend_qt4agg.py\u001b[0m in \u001b[0;36m<module>\u001b[0;34m()\u001b[0m\n\u001b[1;32m     15\u001b[0m \u001b[1;32mfrom\u001b[0m \u001b[0mmatplotlib\u001b[0m\u001b[1;33m.\u001b[0m\u001b[0mfigure\u001b[0m \u001b[1;32mimport\u001b[0m \u001b[0mFigure\u001b[0m\u001b[1;33m\u001b[0m\u001b[0m\n\u001b[1;32m     16\u001b[0m \u001b[1;33m\u001b[0m\u001b[0m\n\u001b[0;32m---> 17\u001b[0;31m \u001b[1;32mfrom\u001b[0m \u001b[1;33m.\u001b[0m\u001b[0mbackend_qt5agg\u001b[0m \u001b[1;32mimport\u001b[0m \u001b[0mNavigationToolbar2QTAgg\u001b[0m\u001b[1;33m\u001b[0m\u001b[0m\n\u001b[0m\u001b[1;32m     18\u001b[0m \u001b[1;32mfrom\u001b[0m \u001b[1;33m.\u001b[0m\u001b[0mbackend_qt5agg\u001b[0m \u001b[1;32mimport\u001b[0m \u001b[0mFigureCanvasQTAggBase\u001b[0m\u001b[1;33m\u001b[0m\u001b[0m\n\u001b[1;32m     19\u001b[0m \u001b[1;33m\u001b[0m\u001b[0m\n",
      "\u001b[0;32mC:\\Users\\Matthew\\Anaconda3\\lib\\site-packages\\matplotlib\\backends\\backend_qt5agg.py\u001b[0m in \u001b[0;36m<module>\u001b[0;34m()\u001b[0m\n\u001b[1;32m     16\u001b[0m \u001b[1;33m\u001b[0m\u001b[0m\n\u001b[1;32m     17\u001b[0m \u001b[1;32mfrom\u001b[0m \u001b[1;33m.\u001b[0m\u001b[0mbackend_agg\u001b[0m \u001b[1;32mimport\u001b[0m \u001b[0mFigureCanvasAgg\u001b[0m\u001b[1;33m\u001b[0m\u001b[0m\n\u001b[0;32m---> 18\u001b[0;31m \u001b[1;32mfrom\u001b[0m \u001b[1;33m.\u001b[0m\u001b[0mbackend_qt5\u001b[0m \u001b[1;32mimport\u001b[0m \u001b[0mQtCore\u001b[0m\u001b[1;33m\u001b[0m\u001b[0m\n\u001b[0m\u001b[1;32m     19\u001b[0m \u001b[1;32mfrom\u001b[0m \u001b[1;33m.\u001b[0m\u001b[0mbackend_qt5\u001b[0m \u001b[1;32mimport\u001b[0m \u001b[0mQtGui\u001b[0m\u001b[1;33m\u001b[0m\u001b[0m\n\u001b[1;32m     20\u001b[0m \u001b[1;32mfrom\u001b[0m \u001b[1;33m.\u001b[0m\u001b[0mbackend_qt5\u001b[0m \u001b[1;32mimport\u001b[0m \u001b[0mFigureManagerQT\u001b[0m\u001b[1;33m\u001b[0m\u001b[0m\n",
      "\u001b[0;32mC:\\Users\\Matthew\\Anaconda3\\lib\\site-packages\\matplotlib\\backends\\backend_qt5.py\u001b[0m in \u001b[0;36m<module>\u001b[0;34m()\u001b[0m\n\u001b[1;32m     29\u001b[0m     \u001b[0mfigureoptions\u001b[0m \u001b[1;33m=\u001b[0m \u001b[1;32mNone\u001b[0m\u001b[1;33m\u001b[0m\u001b[0m\n\u001b[1;32m     30\u001b[0m \u001b[1;33m\u001b[0m\u001b[0m\n\u001b[0;32m---> 31\u001b[0;31m \u001b[1;32mfrom\u001b[0m \u001b[1;33m.\u001b[0m\u001b[0mqt_compat\u001b[0m \u001b[1;32mimport\u001b[0m \u001b[0mQtCore\u001b[0m\u001b[1;33m,\u001b[0m \u001b[0mQtGui\u001b[0m\u001b[1;33m,\u001b[0m \u001b[0mQtWidgets\u001b[0m\u001b[1;33m,\u001b[0m \u001b[0m_getSaveFileName\u001b[0m\u001b[1;33m,\u001b[0m \u001b[0m__version__\u001b[0m\u001b[1;33m\u001b[0m\u001b[0m\n\u001b[0m\u001b[1;32m     32\u001b[0m \u001b[1;32mfrom\u001b[0m \u001b[0mmatplotlib\u001b[0m\u001b[1;33m.\u001b[0m\u001b[0mbackends\u001b[0m\u001b[1;33m.\u001b[0m\u001b[0mqt_editor\u001b[0m\u001b[1;33m.\u001b[0m\u001b[0mformsubplottool\u001b[0m \u001b[1;32mimport\u001b[0m \u001b[0mUiSubplotTool\u001b[0m\u001b[1;33m\u001b[0m\u001b[0m\n\u001b[1;32m     33\u001b[0m \u001b[1;33m\u001b[0m\u001b[0m\n",
      "\u001b[0;32mC:\\Users\\Matthew\\Anaconda3\\lib\\site-packages\\matplotlib\\backends\\qt_compat.py\u001b[0m in \u001b[0;36m<module>\u001b[0;34m()\u001b[0m\n\u001b[1;32m     89\u001b[0m     \u001b[1;32mif\u001b[0m \u001b[0mQT_API\u001b[0m \u001b[1;32min\u001b[0m \u001b[1;33m[\u001b[0m\u001b[0mQT_API_PYQT\u001b[0m\u001b[1;33m,\u001b[0m \u001b[0mQT_API_PYQTv2\u001b[0m\u001b[1;33m]\u001b[0m\u001b[1;33m:\u001b[0m  \u001b[1;31m# PyQt4 API\u001b[0m\u001b[1;33m\u001b[0m\u001b[0m\n\u001b[1;32m     90\u001b[0m \u001b[1;33m\u001b[0m\u001b[0m\n\u001b[0;32m---> 91\u001b[0;31m         \u001b[1;32mfrom\u001b[0m \u001b[0mPyQt4\u001b[0m \u001b[1;32mimport\u001b[0m \u001b[0mQtCore\u001b[0m\u001b[1;33m,\u001b[0m \u001b[0mQtGui\u001b[0m\u001b[1;33m\u001b[0m\u001b[0m\n\u001b[0m\u001b[1;32m     92\u001b[0m \u001b[1;33m\u001b[0m\u001b[0m\n\u001b[1;32m     93\u001b[0m         \u001b[1;32mtry\u001b[0m\u001b[1;33m:\u001b[0m\u001b[1;33m\u001b[0m\u001b[0m\n",
      "\u001b[0;31mImportError\u001b[0m: cannot import name 'QtCore'"
     ]
    }
   ],
   "source": [
    "import pandas as pd\n",
    "import numpy as np\n",
    "# import seaborn as sns\n",
    "from operator import attrgetter\n",
    "import math\n",
    "from matplotlib import pyplot as plt\n",
    "import matplotlib\n",
    "# %matplotlib inline"
   ]
  },
  {
   "cell_type": "code",
   "execution_count": 23,
   "metadata": {
    "collapsed": false
   },
   "outputs": [
    {
     "name": "stderr",
     "output_type": "stream",
     "text": [
      "/home/mattreyes/anaconda3/lib/python3.5/site-packages/rpy2/rinterface/__init__.py:185: RRuntimeWarning: Error in dyn.load(file, DLLpath = DLLpath, ...) : \n",
      "  unable to load shared object '/usr/lib/R/library/stats/libs/stats.so':\n",
      "  /home/mattreyes/anaconda3/bin/../lib/libgfortran.so.3: version `GFORTRAN_1.4' not found (required by /usr/lib/liblapack.so.3)\n",
      "\n",
      "  warnings.warn(x, RRuntimeWarning)\n"
     ]
    },
    {
     "ename": "RRuntimeError",
     "evalue": "Error in dyn.load(file, DLLpath = DLLpath, ...) : \n  unable to load shared object '/usr/lib/R/library/stats/libs/stats.so':\n  /home/mattreyes/anaconda3/bin/../lib/libgfortran.so.3: version `GFORTRAN_1.4' not found (required by /usr/lib/liblapack.so.3)\n",
     "output_type": "error",
     "traceback": [
      "\u001b[0;31m---------------------------------------------------------------------------\u001b[0m",
      "\u001b[0;31mRRuntimeError\u001b[0m                             Traceback (most recent call last)",
      "\u001b[0;32m<ipython-input-23-b5ce1cdd9e6b>\u001b[0m in \u001b[0;36m<module>\u001b[0;34m()\u001b[0m\n\u001b[1;32m      1\u001b[0m \u001b[0;32mfrom\u001b[0m \u001b[0mrpy2\u001b[0m\u001b[0;34m.\u001b[0m\u001b[0mrobjects\u001b[0m\u001b[0;34m.\u001b[0m\u001b[0mpackages\u001b[0m \u001b[0;32mimport\u001b[0m \u001b[0mimportr\u001b[0m\u001b[0;34m\u001b[0m\u001b[0m\n\u001b[0;32m----> 2\u001b[0;31m \u001b[0mstats\u001b[0m \u001b[0;34m=\u001b[0m \u001b[0mimportr\u001b[0m\u001b[0;34m(\u001b[0m\u001b[0;34m'stats'\u001b[0m\u001b[0;34m)\u001b[0m\u001b[0;34m\u001b[0m\u001b[0m\n\u001b[0m\u001b[1;32m      3\u001b[0m \u001b[0;31m# rnorm = rnorm\u001b[0m\u001b[0;34m\u001b[0m\u001b[0;34m\u001b[0m\u001b[0m\n",
      "\u001b[0;32m/home/mattreyes/anaconda3/lib/python3.5/site-packages/rpy2/robjects/packages.py\u001b[0m in \u001b[0;36mimportr\u001b[0;34m(name, lib_loc, robject_translations, signature_translation, suppress_messages, on_conflict, symbol_r2python, symbol_check_after, data)\u001b[0m\n\u001b[1;32m    451\u001b[0m     if _package_has_namespace(rname, \n\u001b[1;32m    452\u001b[0m                               _system_file(package = rname)):\n\u001b[0;32m--> 453\u001b[0;31m         \u001b[0menv\u001b[0m \u001b[0;34m=\u001b[0m \u001b[0m_get_namespace\u001b[0m\u001b[0;34m(\u001b[0m\u001b[0mrname\u001b[0m\u001b[0;34m)\u001b[0m\u001b[0;34m\u001b[0m\u001b[0m\n\u001b[0m\u001b[1;32m    454\u001b[0m         \u001b[0mversion\u001b[0m \u001b[0;34m=\u001b[0m \u001b[0m_get_namespace_version\u001b[0m\u001b[0;34m(\u001b[0m\u001b[0mrname\u001b[0m\u001b[0;34m)\u001b[0m\u001b[0;34m[\u001b[0m\u001b[0;36m0\u001b[0m\u001b[0;34m]\u001b[0m\u001b[0;34m\u001b[0m\u001b[0m\n\u001b[1;32m    455\u001b[0m         \u001b[0mexported_names\u001b[0m \u001b[0;34m=\u001b[0m \u001b[0mset\u001b[0m\u001b[0;34m(\u001b[0m\u001b[0m_get_namespace_exports\u001b[0m\u001b[0;34m(\u001b[0m\u001b[0mrname\u001b[0m\u001b[0;34m)\u001b[0m\u001b[0;34m)\u001b[0m\u001b[0;34m\u001b[0m\u001b[0m\n",
      "\u001b[0;31mRRuntimeError\u001b[0m: Error in dyn.load(file, DLLpath = DLLpath, ...) : \n  unable to load shared object '/usr/lib/R/library/stats/libs/stats.so':\n  /home/mattreyes/anaconda3/bin/../lib/libgfortran.so.3: version `GFORTRAN_1.4' not found (required by /usr/lib/liblapack.so.3)\n"
     ]
    }
   ],
   "source": [
    "from rpy2.robjects.packages import importr\n",
    "stats = importr('stats')\n",
    "# rnorm = rnorm"
   ]
  },
  {
   "cell_type": "code",
   "execution_count": 14,
   "metadata": {
    "collapsed": false
   },
   "outputs": [
    {
     "name": "stderr",
     "output_type": "stream",
     "text": [
      "/home/mattreyes/anaconda3/lib/python3.5/site-packages/rpy2/rinterface/__init__.py:185: RRuntimeWarning: Loading required package: ggplot2\n",
      "\n",
      "  warnings.warn(x, RRuntimeWarning)\n",
      "/home/mattreyes/anaconda3/lib/python3.5/site-packages/rpy2/rinterface/__init__.py:185: RRuntimeWarning: Error in dyn.load(file, DLLpath = DLLpath, ...) : \n",
      "  unable to load shared object '/usr/lib/R/library/stats/libs/stats.so':\n",
      "  /home/mattreyes/anaconda3/bin/../lib/libgfortran.so.3: version `GFORTRAN_1.4' not found (required by /usr/lib/liblapack.so.3)\n",
      "\n",
      "  warnings.warn(x, RRuntimeWarning)\n"
     ]
    },
    {
     "data": {
      "text/plain": [
       "array([0], dtype=int32)"
      ]
     },
     "execution_count": 14,
     "metadata": {},
     "output_type": "execute_result"
    }
   ],
   "source": [
    "%R require(ggplot2)"
   ]
  },
  {
   "cell_type": "markdown",
   "metadata": {},
   "source": [
    "We begin with the following mixture model $f$\n",
    "$$f(x) = \\pi \\phi(x|\\mu_{1},\\sigma_{1}^{2}) + (1-\\pi)\\phi(x|\\mu_{2},\\sigma_{2}^{2})$$\n",
    "\n",
    "where $\\pi \\in [0,1]$.\n",
    "\n",
    "\n",
    "Given a dataset of $n$ observations we have that the likelihood function is\n",
    "\n",
    "$$\n",
    "L(\\mu_{1},\\sigma_{1}^{2},\\mu_{2},\\sigma_{2}^{2}|x) = \n",
    "\\prod_{i=1}^{n}[\\pi\\phi(x_{i}|\\mu_{1},\\sigma_{1}^{2}) + (1-\\pi)\\phi(x_{i}|\\mu_{2},\\sigma_{2}^{2})]\n",
    "$$"
   ]
  },
  {
   "cell_type": "markdown",
   "metadata": {},
   "source": [
    "# PSO Algorithm"
   ]
  },
  {
   "cell_type": "code",
   "execution_count": 36,
   "metadata": {
    "collapsed": false
   },
   "outputs": [],
   "source": [
    "class Particle:\n",
    "    def __init__(self,position,velocity):\n",
    "        self.position = position\n",
    "        self.velocity = velocity\n",
    "        self.pbest = position\n",
    "        self.current_fitness = 0\n",
    "        self.best_fitness = 0\n",
    "        self.num_parameters = len(self.position)\n",
    "    def update_position(self,gbest,\n",
    "                        use_boundary=False,\n",
    "                        lower_bound=None,\n",
    "                        upper_bound=None):              \n",
    "        c1 = 2\n",
    "        c2 = 2\n",
    "        r1 = np.random.rand(1)\n",
    "        r2 = np.random.rand(1)\n",
    "        delta = 2*r1*(self.pbest - self.position) + 2*r2*(gbest - self.position)\n",
    "        \n",
    "        upper_bound=np.zeros(self.num_parameters),\n",
    "        lower_bound=np.zeros(self.num_parameters)\n",
    "        \n",
    "        cond1 = self.velocity + delta <= upper_bound\n",
    "        cond2 = self.velocity + delta >= lower_bound\n",
    "        \n",
    "        if (use_boundary and cond1.all() and cond2.all()) or use_boundary==False:\n",
    "            self.velocity = self.velocity + delta\n",
    "            self.position = self.position + self.velocity\n",
    "    def _phi(self,x,mean,var):\n",
    "        k = math.sqrt(2*math.pi*var)\n",
    "        p = math.exp((x-mean)*(x-mean)/(-2*var))\n",
    "        return p/k\n",
    "    def _mix_dist(self,x,pi,mean1,mean2,var1,var2):\n",
    "        comp1 = pi*self._phi(x,mean1,var1)\n",
    "        comp2 = (1-pi)*self._phi(x,mean2,var2)\n",
    "        return comp1+comp2\n",
    "    def _gaussian_likelihood(self,x,pi,mean1,mean2,var1,var2):\n",
    "        # x is a vector of data\n",
    "        n = len(x)\n",
    "        p = 0 # p = 1\n",
    "        for i in range(0,n):\n",
    "            disruption = self._mix_dist(x[i],pi,mean1,mean2,var1,var2)\n",
    "            if disruption <= 0 or pi > 1 or pi < 0:                \n",
    "                print(\"log value \" + str(disruption) + \", point \" + str(i))\n",
    "                print(\"pi=\" + str(pi))\n",
    "                print(\"mu1=\" + str(mean1) + \",mu2=\" + str(mean2))\n",
    "                print(\"var1=\" + str(var1) + \",var2=\" + str(var2))\n",
    "            if disruption >= 1:\n",
    "                print(\">=1 probelm:\" + str(distruption))\n",
    "                print(\"pi=\" + str(pi))\n",
    "                print(\"mu1=\" + str(mean1) + \",mu2=\" + str(mean2))\n",
    "                print(\"var1=\" + str(var1) + \",var2=\" + str(var2))\n",
    "            \n",
    "            p = p + math.log(self._mix_dist(x[i],pi,mean1,mean2,var1,var2)) \n",
    "        return p\n",
    "    def calculate_fitness(self,x,pi,mean1,mean2,var1,var2):\n",
    "        self.current_fitness = self._gaussian_likelihood(x,pi,mean1,mean2,var1,var2)\n",
    "        if self.current_fitness > self.best_fitness or self.best_fitness == 0:\n",
    "            self.pbest = self.position\n",
    "            self.best_fitness = self.current_fitness"
   ]
  },
  {
   "cell_type": "code",
   "execution_count": 43,
   "metadata": {
    "collapsed": false
   },
   "outputs": [],
   "source": [
    "# Algorithm Parameters\n",
    "\n",
    "N = 5\n",
    "iterations = 1000\n",
    "\n",
    "a = np.random.normal(0,1,700)\n",
    "b = np.random.normal(5,1,300)\n",
    "\n",
    "x = np.concatenate((a,b),axis=0)\n",
    "\n",
    "# plt.hist(x)\n",
    "# plt.show()\n",
    "\n",
    "data_min = min(x)\n",
    "data_max = max(x)\n",
    "lower_boundary = np.array([0,data_min,data_min,0,0])\n",
    "upper_boundary = np.array([1,data_max,data_max,10,10])    \n",
    "particles = [0] * N\n",
    "tolerance = 0.001"
   ]
  },
  {
   "cell_type": "code",
   "execution_count": 44,
   "metadata": {
    "collapsed": false,
    "scrolled": true
   },
   "outputs": [
    {
     "name": "stdout",
     "output_type": "stream",
     "text": [
      "iteration 0\n",
      "iteration 10\n",
      "iteration 20\n",
      "iteration 30\n",
      "iteration 40\n",
      "iteration 50\n",
      "iteration 60\n",
      "iteration 70\n",
      "iteration 80\n",
      "iteration 90\n",
      "iteration 100\n",
      "iteration 110\n",
      "iteration 120\n",
      "iteration 130\n",
      "iteration 140\n",
      "iteration 150\n",
      "iteration 160\n",
      "iteration 170\n",
      "iteration 180\n",
      "iteration 190\n",
      "iteration 200\n",
      "iteration 210\n",
      "iteration 220\n",
      "iteration 230\n",
      "iteration 240\n",
      "iteration 250\n",
      "iteration 260\n",
      "iteration 270\n",
      "iteration 280\n",
      "iteration 290\n",
      "iteration 300\n",
      "iteration 310\n",
      "iteration 320\n",
      "iteration 330\n",
      "iteration 340\n",
      "iteration 350\n",
      "iteration 360\n",
      "iteration 370\n",
      "iteration 380\n",
      "iteration 390\n",
      "iteration 400\n",
      "iteration 410\n",
      "iteration 420\n",
      "iteration 430\n",
      "iteration 440\n",
      "iteration 450\n",
      "iteration 460\n",
      "iteration 470\n",
      "iteration 480\n",
      "iteration 490\n",
      "iteration 500\n",
      "iteration 510\n",
      "iteration 520\n",
      "iteration 530\n",
      "iteration 540\n",
      "iteration 550\n",
      "iteration 560\n",
      "iteration 570\n",
      "iteration 580\n",
      "iteration 590\n",
      "iteration 600\n",
      "iteration 610\n",
      "iteration 620\n",
      "iteration 630\n",
      "iteration 640\n",
      "iteration 650\n",
      "iteration 660\n",
      "iteration 670\n",
      "iteration 680\n",
      "iteration 690\n",
      "iteration 700\n",
      "iteration 710\n",
      "iteration 720\n",
      "iteration 730\n",
      "iteration 740\n",
      "iteration 750\n",
      "iteration 760\n",
      "iteration 770\n",
      "iteration 780\n",
      "iteration 790\n",
      "iteration 800\n",
      "iteration 810\n",
      "iteration 820\n",
      "iteration 830\n",
      "iteration 840\n",
      "iteration 850\n",
      "iteration 860\n",
      "iteration 870\n",
      "iteration 880\n",
      "iteration 890\n",
      "iteration 900\n",
      "iteration 910\n",
      "iteration 920\n",
      "iteration 930\n",
      "iteration 940\n",
      "iteration 950\n",
      "iteration 960\n",
      "iteration 970\n",
      "iteration 980\n",
      "iteration 990\n",
      "[ 0.29624916  6.14845943  0.59587504]\n",
      "-2298.8734418088675\n"
     ]
    }
   ],
   "source": [
    "# random intialization of particles\n",
    "\n",
    "np.random.seed(69)\n",
    "\n",
    "# estimating a weight parameter and mu parameter for each of the two gaussian components\n",
    "# posn[0] = weight\n",
    "# posn[1] = mu1\n",
    "# posn[2] = mu2\n",
    "\n",
    "for p in range(N):    \n",
    "    rand_pi = np.random.uniform(0,1)\n",
    "    rand_mean1 = np.random.uniform(data_min,data_max)\n",
    "    rand_mean2 = np.random.uniform(data_min,data_max)\n",
    "    sigma1 = 1\n",
    "    sigma2 = 1\n",
    "    rand_posn = np.array([rand_pi,rand_mean1,rand_mean2])\n",
    "    rand_velocity = np.array([np.random.uniform(0,1),\n",
    "                             np.random.uniform(0,1),\n",
    "                             np.random.uniform(0,1)])\n",
    "    \n",
    "    particles[p] = Particle(rand_posn,rand_velocity)\n",
    "    particles[p].calculate_fitness(x,rand_pi,rand_mean1,rand_mean2,sigma1,sigma2)\n",
    "\n",
    "gbest = max(particles,key=attrgetter('best_fitness'))    \n",
    "\n",
    "# repeat until convergence\n",
    "for i in range(iterations):\n",
    "    if i%10 == 0:\n",
    "        print(\"iteration \" + str(i))\n",
    "    for p in particles:\n",
    "        p.update_position(gbest.position,True,lower_boundary,upper_boundary)\n",
    "\n",
    "        params = p.position\n",
    "        pi = params[0]     \n",
    "        mean1 = params[1]\n",
    "        mean2 = params[2]\n",
    "        sigma1 = 1\n",
    "        sigma2 = 1\n",
    "        p.calculate_fitness(x,pi,mean1,mean2,sigma1,sigma2)\n",
    "    gbest = max(particles,key=attrgetter('best_fitness'))    \n",
    "\n",
    "print(gbest.pbest)\n",
    "print(gbest.best_fitness)"
   ]
  },
  {
   "cell_type": "code",
   "execution_count": 35,
   "metadata": {
    "collapsed": false
   },
   "outputs": [
    {
     "data": {
      "text/plain": [
       "-2352.532220191125"
      ]
     },
     "execution_count": 35,
     "metadata": {},
     "output_type": "execute_result"
    }
   ],
   "source": [
    "# debugging\n",
    "\n",
    "bad_boy = np.array([x[0]])\n",
    "\n",
    "def _phi(x,mean,var):\n",
    "    k = math.sqrt(2*math.pi*var)\n",
    "    p = math.exp((x-mean)*(x-mean)/(-2*var))\n",
    "    return p/k\n",
    "def _mix_dist(x,pi,mean1,mean2,var1,var2):\n",
    "    comp1 = pi*_phi(x,mean1,var1)\n",
    "    comp2 = (1-pi)*_phi(x,mean2,var2)\n",
    "    return comp1+comp2\n",
    "def _gaussian_likelihood(x,pi,mean1,mean2,var1,var2):\n",
    "    # x is a vector of data\n",
    "    n = len(x)\n",
    "    p = 0 # p = 1\n",
    "    for i in range(0,n):\n",
    "        disruption = _mix_dist(x[i],pi,mean1,mean2,var1,var2)\n",
    "        if disruption <= 0:\n",
    "            print(\"log value \" + str(disruption) + \"point \" + str(i))\n",
    "        p = p + math.log(_mix_dist(x[i],pi,mean1,mean2,var1,var2)) \n",
    "    return p\n",
    "\n",
    "_gaussian_likelihood(x,1-0.29624916 ,0.73836857  , 6.1588313    ,1,1)\n"
   ]
  },
  {
   "cell_type": "code",
   "execution_count": 53,
   "metadata": {
    "collapsed": false
   },
   "outputs": [
    {
     "ename": "AttributeError",
     "evalue": "'module' object has no attribute 'pyplot'",
     "output_type": "error",
     "traceback": [
      "\u001b[0;31m---------------------------------------------------------------------------\u001b[0m",
      "\u001b[0;31mAttributeError\u001b[0m                            Traceback (most recent call last)",
      "\u001b[0;32m<ipython-input-53-4fedc2cfac90>\u001b[0m in \u001b[0;36m<module>\u001b[0;34m()\u001b[0m\n\u001b[1;32m      5\u001b[0m \u001b[1;31m# improve efficiency of likelihood calculation (mapreduce?)\u001b[0m\u001b[1;33m\u001b[0m\u001b[1;33m\u001b[0m\u001b[0m\n\u001b[1;32m      6\u001b[0m \u001b[1;31m# plot the estimated mixture densities vs kde for EM and PSO\u001b[0m\u001b[1;33m\u001b[0m\u001b[1;33m\u001b[0m\u001b[0m\n\u001b[0;32m----> 7\u001b[0;31m \u001b[0mmatplotlib\u001b[0m\u001b[1;33m.\u001b[0m\u001b[0mpyplot\u001b[0m\u001b[1;33m.\u001b[0m\u001b[0mhist\u001b[0m\u001b[1;33m(\u001b[0m\u001b[0mx\u001b[0m\u001b[1;33m)\u001b[0m\u001b[1;33m\u001b[0m\u001b[0m\n\u001b[0m\u001b[1;32m      8\u001b[0m \u001b[0mmatplotlib\u001b[0m\u001b[1;33m.\u001b[0m\u001b[0mpyplot\u001b[0m\u001b[1;33m.\u001b[0m\u001b[0mshow\u001b[0m\u001b[1;33m(\u001b[0m\u001b[1;33m)\u001b[0m\u001b[1;33m\u001b[0m\u001b[0m\n",
      "\u001b[0;31mAttributeError\u001b[0m: 'module' object has no attribute 'pyplot'"
     ]
    }
   ],
   "source": [
    "# next steps: \n",
    "# R generates data, passes to python\n",
    "# add sigma parameters\n",
    "# monte carlo: run algorithm multiple times \n",
    "# improve efficiency of likelihood calculation (mapreduce?)\n",
    "# plot the estimated mixture densities vs kde for EM and PSO\n",
    "matplotlib.pyplot.hist(x)\n",
    "matplotlib.pyplot.show()"
   ]
  },
  {
   "cell_type": "code",
   "execution_count": 54,
   "metadata": {
    "collapsed": false
   },
   "outputs": [
    {
     "data": {
      "text/plain": [
       "1.5169825897402256"
      ]
     },
     "execution_count": 54,
     "metadata": {},
     "output_type": "execute_result"
    }
   ],
   "source": [
    "np.mean(x)"
   ]
  },
  {
   "cell_type": "markdown",
   "metadata": {},
   "source": [
    "# EM Algorithm"
   ]
  },
  {
   "cell_type": "code",
   "execution_count": 13,
   "metadata": {
    "collapsed": false
   },
   "outputs": [
    {
     "name": "stdout",
     "output_type": "stream",
     "text": [
      "iteration 0\n",
      "iteration 500\n",
      "iteration 1000\n",
      "iteration 1500\n",
      "iteration 2000\n",
      "iteration 2500\n",
      "iteration 3000\n",
      "iteration 3500\n",
      "iteration 4000\n",
      "iteration 4500\n",
      "iteration 5000\n",
      "iteration 5500\n",
      "iteration 6000\n",
      "iteration 6500\n",
      "iteration 7000\n",
      "iteration 7500\n",
      "iteration 8000\n",
      "iteration 8500\n",
      "iteration 9000\n",
      "iteration 9500\n",
      "0.0133605106794\n",
      "0.59808724982\n",
      "1.013045661925173\n",
      "6.04923234894\n",
      "0.40191275018\n",
      "3.0005750738509107\n"
     ]
    }
   ],
   "source": [
    "import math\n",
    "import numpy as np\n",
    "from matplotlib import pyplot as plt\n",
    "\n",
    "def em(data,num_iter=10000):\n",
    "    mu1 = 0\n",
    "    mu2 = 0\n",
    "    sd1 = 1\n",
    "    sd2 = 1\n",
    "    pi1 = 0.49\n",
    "    pi2 = 1 - pi1\n",
    "    n = len(data)\n",
    "    \n",
    "    def prob(x,mu,sd):\n",
    "        nator = np.vectorize(math.exp)(((x-mu)*(x-mu))/(-2*sd*sd))\n",
    "        dator = math.sqrt(2*math.pi)*sd\n",
    "        return (nator/dator)\n",
    "    def p1():\n",
    "        return prob(data,mu1,sd1)\n",
    "    def p2():\n",
    "        return prob(data,mu2,sd2)\n",
    "\n",
    "    for i in range(0,num_iter):\n",
    "        if i%500 == 0:\n",
    "            print('iteration ' + str(i))\n",
    "#         p1 = prob(data,mu1,sd2)\n",
    "        w = (pi1*p1()) / (pi1*p1()+pi2*p2())\n",
    "        n1 = np.sum(w)\n",
    "        n2 = n - n1\n",
    "        pi1 = n1 / n\n",
    "        pi2 = 1 - pi1\n",
    "\n",
    "        mu1 = (1/n1)*np.sum(w*data)\n",
    "        mu2 = (1/n2)*np.sum((1-w)*data)\n",
    "\n",
    "        sd1 = math.sqrt(np.sum(w*(data-mu1)*(data-mu1)) / n1   )\n",
    "        sd2 = math.sqrt((1/n2)*np.sum((1-w)*(data-mu2)*(data-mu2)))\n",
    "        \n",
    "    print(str(mu1))    \n",
    "    print(str(pi1))\n",
    "    print(str(sd1))\n",
    "    print(str(mu2)) # \n",
    "    print(str(pi2)) # did not change\n",
    "    print(str(sd2)) # correct\n",
    "\n",
    "# np.random.seed(seed=420)\n",
    "# x1 = np.random.normal(0,1,600)\n",
    "# x2 = np.random.normal(6,3,400)\n",
    "# x = np.append(x1,x2)\n",
    "# plt.hist(x)\n",
    "# plt.show()\n",
    "\n",
    "\n",
    "em(x)\n"
   ]
  },
  {
   "cell_type": "code",
   "execution_count": 4,
   "metadata": {
    "collapsed": false
   },
   "outputs": [
    {
     "name": "stdout",
     "output_type": "stream",
     "text": [
      "0.398942280401\n",
      "0.241970724519\n",
      "0.241970724519\n"
     ]
    },
    {
     "data": {
      "text/plain": [
       "array([ 0.3832846 ,  0.39281777,  0.38517172,  0.33081021,  0.3978133 ,\n",
       "        0.28606961])"
      ]
     },
     "execution_count": 4,
     "metadata": {},
     "output_type": "execute_result"
    }
   ],
   "source": [
    "def prob(x,mu,sd):\n",
    "    nator = np.vectorize(math.exp)(((x-mu)*(x-mu))/(-2*sd*sd))\n",
    "    dator = math.sqrt(2*math.pi)*sd\n",
    "    return (nator/dator)\n",
    "\n",
    "\n",
    "\n",
    "print(prob(0,0,1))\n",
    "print(prob(2,1,1))\n",
    "print(prob(-1,0,1))\n",
    "\n",
    "x = np.random.normal(0,1,6)\n",
    "prob(x,0,1)"
   ]
  }
 ],
 "metadata": {
  "anaconda-cloud": {},
  "kernelspec": {
   "display_name": "Python [default]",
   "language": "python",
   "name": "python3"
  },
  "language_info": {
   "codemirror_mode": {
    "name": "ipython",
    "version": 3
   },
   "file_extension": ".py",
   "mimetype": "text/x-python",
   "name": "python",
   "nbconvert_exporter": "python",
   "pygments_lexer": "ipython3",
   "version": "3.4.3"
  }
 },
 "nbformat": 4,
 "nbformat_minor": 1
}
