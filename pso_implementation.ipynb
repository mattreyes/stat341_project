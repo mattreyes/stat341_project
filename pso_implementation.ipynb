{
 "cells": [
  {
   "cell_type": "code",
   "execution_count": 3,
   "metadata": {
    "collapsed": false
   },
   "outputs": [],
   "source": [
    "import pandas as pd\n",
    "import numpy as np\n",
    "#import seaborn as sns"
   ]
  },
  {
   "cell_type": "code",
   "execution_count": 17,
   "metadata": {
    "collapsed": false
   },
   "outputs": [],
   "source": [
    "# importing R dependencies\n",
    "import rpy2\n",
    "import readline\n",
    "import rpy2.robjects as robjects"
   ]
  },
  {
   "cell_type": "code",
   "execution_count": 18,
   "metadata": {
    "collapsed": false
   },
   "outputs": [
    {
     "name": "stdout",
     "output_type": "stream",
     "text": [
      "The rpy2.ipython extension is already loaded. To reload it, use:\n",
      "  %reload_ext rpy2.ipython\n"
     ]
    }
   ],
   "source": [
    "%load_ext rpy2.ipython"
   ]
  },
  {
   "cell_type": "code",
   "execution_count": 19,
   "metadata": {
    "collapsed": false
   },
   "outputs": [
    {
     "data": {
      "text/plain": [
       "array([ 3.14159265])"
      ]
     },
     "execution_count": 19,
     "metadata": {},
     "output_type": "execute_result"
    }
   ],
   "source": [
    "robjects.r('pi')"
   ]
  },
  {
   "cell_type": "code",
   "execution_count": 22,
   "metadata": {
    "collapsed": false
   },
   "outputs": [
    {
     "name": "stderr",
     "output_type": "stream",
     "text": [
      "/home/mattreyes/anaconda3/lib/python3.5/site-packages/rpy2/rinterface/__init__.py:185: RRuntimeWarning: Loading required package: ggplot2\n",
      "\n",
      "  warnings.warn(x, RRuntimeWarning)\n"
     ]
    },
    {
     "data": {
      "text/plain": [
       "array([0], dtype=int32)"
      ]
     },
     "execution_count": 22,
     "metadata": {},
     "output_type": "execute_result"
    }
   ],
   "source": [
    "%R require(ggplot2)"
   ]
  },
  {
   "cell_type": "code",
   "execution_count": 26,
   "metadata": {
    "collapsed": false
   },
   "outputs": [
    {
     "data": {
      "text/plain": [
       "R object with classes: ('array',) mapped to:\n",
       "<Array - Python:0x7fa50d6e4dc8 / R:0x30a3b38>\n",
       "[IntVector]"
      ]
     },
     "execution_count": 26,
     "metadata": {},
     "output_type": "execute_result"
    }
   ],
   "source": [
    "robjects.r.array([1])"
   ]
  },
  {
   "cell_type": "markdown",
   "metadata": {},
   "source": [
    "Algorithm"
   ]
  },
  {
   "cell_type": "code",
   "execution_count": 3,
   "metadata": {
    "collapsed": false
   },
   "outputs": [],
   "source": [
    "class Particle:\n",
    "    def __init__(self,position,velocity):\n",
    "        self.position = position\n",
    "        self.velocity = velocity\n",
    "        self.pbest = position\n",
    "        self.current_fitness = calculate_fitness(self.position)\n",
    "        self.best_fitness = self.current_fitness\n",
    "    def calculate_fitness(self,position):\n",
    "        #self.current_fitness = gaussian formula\n",
    "        if self.current_fitness > self.best_fitness:\n",
    "            self.pbest = self.position\n",
    "            self.best_fitness = self.current_fitness\n",
    "    def update_position(self,position,pbest,gbest):\n",
    "        c1 = 2\n",
    "        c2 = 2\n",
    "        r1 = np.random.rand(1)\n",
    "        r2 = np.random.rand(1)\n",
    "        self.velocity = self.velocity + 2*r1*(pbest - position) + 2*r2*(gbest - position)\n",
    "        self.position = self.position + self.velocity\n",
    "        \n",
    "# call update before calculation"
   ]
  },
  {
   "cell_type": "code",
   "execution_count": null,
   "metadata": {
    "collapsed": true
   },
   "outputs": [],
   "source": [
    "# Algorithm\n",
    "\n",
    "N = 1000\n",
    "iterations = 50000\n",
    "\n",
    "#for i in range(iterations):\n",
    "    \n",
    "    \n",
    "# initialize partciels (list of classes)\n",
    "\n",
    "\n",
    "    # random posn (based on mean)\n",
    "    # random velocity\n",
    "    \n",
    "    \n",
    "    \n",
    "# globally, take the max pbest\n",
    "\n"
   ]
  },
  {
   "cell_type": "code",
   "execution_count": 70,
   "metadata": {
    "collapsed": false
   },
   "outputs": [
    {
     "name": "stdout",
     "output_type": "stream",
     "text": [
      "[1 2]\n",
      "[ 0.5903245]\n"
     ]
    },
    {
     "data": {
      "text/plain": [
       "array([ 0.5903245,  1.180649 ])"
      ]
     },
     "execution_count": 70,
     "metadata": {},
     "output_type": "execute_result"
    }
   ],
   "source": [
    "v = np.array([1,2])\n",
    "r = np.random.rand(1)\n",
    "print(v)\n",
    "print(r)\n",
    "v * r\n"
   ]
  }
 ],
 "metadata": {
  "kernelspec": {
   "display_name": "Python 3",
   "language": "python",
   "name": "python3"
  },
  "language_info": {
   "codemirror_mode": {
    "name": "ipython",
    "version": 3
   },
   "file_extension": ".py",
   "mimetype": "text/x-python",
   "name": "python",
   "nbconvert_exporter": "python",
   "pygments_lexer": "ipython3",
   "version": "3.4.3"
  }
 },
 "nbformat": 4,
 "nbformat_minor": 1
}
