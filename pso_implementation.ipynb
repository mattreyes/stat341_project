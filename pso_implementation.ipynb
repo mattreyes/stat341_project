{
 "cells": [
  {
   "cell_type": "code",
   "execution_count": 48,
   "metadata": {
    "collapsed": false
   },
   "outputs": [],
   "source": [
    "import pandas as pd\n",
    "import numpy as np\n",
    "# import seaborn as sns\n",
    "from operator import attrgetter\n",
    "import math\n",
    "from matplotlib import pyplot as plt"
   ]
  },
  {
   "cell_type": "code",
   "execution_count": 17,
   "metadata": {
    "collapsed": false
   },
   "outputs": [],
   "source": [
    "# importing R dependencies\n",
    "import rpy2\n",
    "import readline\n",
    "import rpy2.robjects as robjects"
   ]
  },
  {
   "cell_type": "code",
   "execution_count": 18,
   "metadata": {
    "collapsed": false
   },
   "outputs": [
    {
     "name": "stdout",
     "output_type": "stream",
     "text": [
      "The rpy2.ipython extension is already loaded. To reload it, use:\n",
      "  %reload_ext rpy2.ipython\n"
     ]
    }
   ],
   "source": [
    "%load_ext rpy2.ipython"
   ]
  },
  {
   "cell_type": "code",
   "execution_count": 19,
   "metadata": {
    "collapsed": false
   },
   "outputs": [
    {
     "data": {
      "text/plain": [
       "array([ 3.14159265])"
      ]
     },
     "execution_count": 19,
     "metadata": {},
     "output_type": "execute_result"
    }
   ],
   "source": [
    "robjects.r('pi')"
   ]
  },
  {
   "cell_type": "code",
   "execution_count": 22,
   "metadata": {
    "collapsed": false
   },
   "outputs": [
    {
     "name": "stderr",
     "output_type": "stream",
     "text": [
      "/home/mattreyes/anaconda3/lib/python3.5/site-packages/rpy2/rinterface/__init__.py:185: RRuntimeWarning: Loading required package: ggplot2\n",
      "\n",
      "  warnings.warn(x, RRuntimeWarning)\n"
     ]
    },
    {
     "data": {
      "text/plain": [
       "array([0], dtype=int32)"
      ]
     },
     "execution_count": 22,
     "metadata": {},
     "output_type": "execute_result"
    }
   ],
   "source": [
    "%R require(ggplot2)"
   ]
  },
  {
   "cell_type": "code",
   "execution_count": 26,
   "metadata": {
    "collapsed": false
   },
   "outputs": [
    {
     "data": {
      "text/plain": [
       "R object with classes: ('array',) mapped to:\n",
       "<Array - Python:0x7fa50d6e4dc8 / R:0x30a3b38>\n",
       "[IntVector]"
      ]
     },
     "execution_count": 26,
     "metadata": {},
     "output_type": "execute_result"
    }
   ],
   "source": [
    "robjects.r.array([1])"
   ]
  },
  {
   "cell_type": "markdown",
   "metadata": {},
   "source": [
    "We begin with the following mixture model $f$\n",
    "$$f(x) = \\pi \\phi(x|\\mu_{1},\\sigma_{1}^{2}) + (1-\\pi)\\phi(x|\\mu_{2},\\sigma_{2}^{2})$$\n",
    "\n",
    "where $\\pi \\in [0,1]$.\n",
    "\n",
    "\n",
    "Given a dataset of $n$ observations we have that the likelihood function is\n",
    "\n",
    "$$\n",
    "L(\\mu_{1},\\sigma_{1}^{2},\\mu_{2},\\sigma_{2}^{2}|x) = \n",
    "\\prod_{i=1}^{n}[\\pi\\phi(x_{i}|\\mu_{1},\\sigma_{1}^{2}) + (1-\\pi)\\phi(x_{i}|\\mu_{2},\\sigma_{2}^{2})]\n",
    "$$"
   ]
  },
  {
   "cell_type": "markdown",
   "metadata": {},
   "source": [
    "# Algorithm"
   ]
  },
  {
   "cell_type": "code",
   "execution_count": 40,
   "metadata": {
    "collapsed": false
   },
   "outputs": [],
   "source": [
    "class Particle:\n",
    "    def __init__(self,position,velocity):\n",
    "        self.position = position\n",
    "        self.velocity = velocity\n",
    "        self.pbest = position\n",
    "        self.current_fitness = 0\n",
    "        self.best_fitness = 0\n",
    "        self.num_parameters = len(self.position)\n",
    "    def update_position(self,gbest,\n",
    "                        use_boundary=False,\n",
    "                        lower_bound=None,\n",
    "                        upper_bound=None):              \n",
    "        c1 = 2\n",
    "        c2 = 2\n",
    "        r1 = np.random.rand(1)\n",
    "        r2 = np.random.rand(1)\n",
    "        delta = 2*r1*(self.pbest - self.position) + 2*r2*(gbest - self.position)\n",
    "        \n",
    "        upper_bound=np.zeros(self.num_parameters),\n",
    "        lower_bound=np.zeros(self.num_parameters)\n",
    "        \n",
    "        cond1 = delta <= upper_bound\n",
    "        cond2 = delta >= lower_bound\n",
    "        \n",
    "        if (use_boundary and cond1.all() and cond2.all()) or use_boundary==False:\n",
    "            self.velocity = self.velocity + delta\n",
    "            self.position = self.position + self.velocity\n",
    "    def _phi(self,x,mean,var):\n",
    "        k = math.sqrt(2*math.pi*var)\n",
    "        p = math.exp((x-mean)*(x-mean)/(-2*var))\n",
    "        return p/k\n",
    "    def _mix_dist(self,x,pi,mean1,mean2,var1,var2):\n",
    "        comp1 = pi*self._phi(x,mean1,var1)\n",
    "        comp2 = (1-pi)*self._phi(x,mean2,var2)\n",
    "        return comp1+comp2\n",
    "    def _gaussian_likelihood(self,x,pi,mean1,mean2,var1,var2):\n",
    "        # x is a vector of data\n",
    "        n = len(x)\n",
    "        p = 1\n",
    "        for i in range(0,n):\n",
    "            p = p * self._mix_dist(x[i],pi,mean1,mean2,var1,var2)\n",
    "        return p\n",
    "    def calculate_fitness(self,x,pi,mean1,mean2,var1,var2):\n",
    "        self.current_fitness = self._gaussian_likelihood(x,pi,mean1,mean2,var1,var2)\n",
    "        if self.current_fitness > self.best_fitness:\n",
    "            self.pbest = self.position\n",
    "            self.best_fitness = self.current_fitness"
   ]
  },
  {
   "cell_type": "code",
   "execution_count": 78,
   "metadata": {
    "collapsed": true
   },
   "outputs": [],
   "source": [
    "# Algorithm Parameters\n",
    "\n",
    "N = 100\n",
    "iterations = 50\n",
    "\n",
    "a = np.random.normal(0,1,700)\n",
    "b = np.random.normal(5,1,300)\n",
    "\n",
    "x = np.concatenate((a,b),axis=0)\n",
    "\n",
    "plt.hist(s)\n",
    "plt.show()\n",
    "\n",
    "data_min = min(x)\n",
    "data_max = max(x)\n",
    "lower_boundary = np.array([0,data_min,data_min,0,0])\n",
    "upper_boundary = np.array([1,data_max,data_max,10,10])    \n",
    "particles = [0] * N\n",
    "tolerance = 0.001"
   ]
  },
  {
   "cell_type": "code",
   "execution_count": 79,
   "metadata": {
    "collapsed": false
   },
   "outputs": [
    {
     "name": "stdout",
     "output_type": "stream",
     "text": [
      "iteration 0\n",
      "[ 0.29624916  5.98658273  0.75084666]\n",
      "0\n"
     ]
    }
   ],
   "source": [
    "# random intialization of particles\n",
    "\n",
    "np.random.seed(69)\n",
    "\n",
    "# estimating a weight parameter and mu parameter for each of the two gaussian components\n",
    "# posn[0] = weight\n",
    "# posn[1] = mu1\n",
    "# posn[2] = mu2\n",
    "\n",
    "for p in range(N):    \n",
    "    rand_pi = np.random.uniform(0,1)\n",
    "    rand_mean1 = np.random.uniform(data_min,data_max)\n",
    "    rand_mean2 = np.random.uniform(data_min,data_max)\n",
    "    sigma1 = 1\n",
    "    sigma2 = 1\n",
    "    rand_posn = np.array([rand_pi,rand_mean1,rand_mean2])\n",
    "    rand_velocity = np.array([np.random.uniform(0,1),\n",
    "                             np.random.uniform(0,1),\n",
    "                             np.random.uniform(0,1)])\n",
    "    \n",
    "    particles[p] = Particle(rand_posn,rand_velocity)\n",
    "    particles[p].calculate_fitness(x,rand_pi,rand_mu1,rand_mu2,sigma1,sigma2)\n",
    "\n",
    "gbest = max(particles,key=attrgetter('best_fitness'))    \n",
    "\n",
    "# repeat until convergence\n",
    "for i in range(iterations):\n",
    "    if i%100 == 0:\n",
    "        print(\"iteration \" + str(i))\n",
    "    for p in particles:\n",
    "        p.update_position(gbest.position,True,lower_boundary,upper_boundary)\n",
    "\n",
    "        params = p.position\n",
    "        pi = params[0]\n",
    "        mean1 = params[1]\n",
    "        mean2 = params[2]\n",
    "        sigma1 = 1\n",
    "        sigma2 = 1\n",
    "        p.calculate_fitness(x,pi,mean1,mean2,sigma1,sigma2)\n",
    "        gbest = max(particles,key=attrgetter('best_fitness'))    \n",
    "\n",
    "print(gbest.pbest)\n",
    "print(gbest.best_fitness)"
   ]
  },
  {
   "cell_type": "code",
   "execution_count": null,
   "metadata": {
    "collapsed": true
   },
   "outputs": [],
   "source": [
    "# next steps: \n",
    "# improve efficiency of likelihood calculation (mapreduce?\n",
    "# combine R and python scripts\n",
    "# add sigma parameters\n",
    "# plot the estimated mixture densities vs kde for EM and PSO\n",
    "# port EM to python\n",
    "\n",
    "# monte carlo: run algorithm multiple times \n",
    "# R generates data, passes to python"
   ]
  }
 ],
 "metadata": {
  "kernelspec": {
   "display_name": "Python 3",
   "language": "python",
   "name": "python3"
  },
  "language_info": {
   "codemirror_mode": {
    "name": "ipython",
    "version": 3
   },
   "file_extension": ".py",
   "mimetype": "text/x-python",
   "name": "python",
   "nbconvert_exporter": "python",
   "pygments_lexer": "ipython3",
   "version": "3.4.3"
  }
 },
 "nbformat": 4,
 "nbformat_minor": 1
}
