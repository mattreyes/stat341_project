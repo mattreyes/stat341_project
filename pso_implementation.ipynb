{
 "cells": [
  {
   "cell_type": "code",
   "execution_count": 23,
   "metadata": {
    "collapsed": false
   },
   "outputs": [],
   "source": [
    "import pandas as pd\n",
    "import numpy as np\n",
    "# import seaborn as sns\n",
    "from operator import attrgetter\n",
    "import math\n",
    "from matplotlib import pyplot as plt\n",
    "%matplotlib inline"
   ]
  },
  {
   "cell_type": "code",
   "execution_count": 17,
   "metadata": {
    "collapsed": false
   },
   "outputs": [
    {
     "ename": "ImportError",
     "evalue": "No module named 'rpy2'",
     "output_type": "error",
     "traceback": [
      "\u001b[1;31m\u001b[0m",
      "\u001b[1;31mImportError\u001b[0mTraceback (most recent call last)",
      "\u001b[1;32m<ipython-input-17-0e641966fce5>\u001b[0m in \u001b[0;36m<module>\u001b[1;34m()\u001b[0m\n\u001b[0;32m      1\u001b[0m \u001b[1;31m# importing R dependencies\u001b[0m\u001b[1;33m\u001b[0m\u001b[1;33m\u001b[0m\u001b[0m\n\u001b[1;32m----> 2\u001b[1;33m \u001b[1;32mimport\u001b[0m \u001b[0mrpy2\u001b[0m\u001b[1;33m\u001b[0m\u001b[0m\n\u001b[0m\u001b[0;32m      3\u001b[0m \u001b[1;32mimport\u001b[0m \u001b[0mreadline\u001b[0m\u001b[1;33m\u001b[0m\u001b[0m\n\u001b[0;32m      4\u001b[0m \u001b[1;32mimport\u001b[0m \u001b[0mrpy2\u001b[0m\u001b[1;33m.\u001b[0m\u001b[0mrobjects\u001b[0m \u001b[1;32mas\u001b[0m \u001b[0mrobjects\u001b[0m\u001b[1;33m\u001b[0m\u001b[0m\n",
      "\u001b[1;31mImportError\u001b[0m: No module named 'rpy2'"
     ]
    }
   ],
   "source": [
    "# importing R dependencies\n",
    "import rpy2\n",
    "import readline\n",
    "import rpy2.robjects as robjects"
   ]
  },
  {
   "cell_type": "code",
   "execution_count": 18,
   "metadata": {
    "collapsed": false
   },
   "outputs": [
    {
     "name": "stdout",
     "output_type": "stream",
     "text": [
      "The rpy2.ipython extension is already loaded. To reload it, use:\n",
      "  %reload_ext rpy2.ipython\n"
     ]
    }
   ],
   "source": [
    "%load_ext rpy2.ipython"
   ]
  },
  {
   "cell_type": "code",
   "execution_count": 19,
   "metadata": {
    "collapsed": false
   },
   "outputs": [
    {
     "data": {
      "text/plain": [
       "array([ 3.14159265])"
      ]
     },
     "execution_count": 19,
     "metadata": {},
     "output_type": "execute_result"
    }
   ],
   "source": [
    "robjects.r('pi')"
   ]
  },
  {
   "cell_type": "code",
   "execution_count": 22,
   "metadata": {
    "collapsed": false
   },
   "outputs": [
    {
     "name": "stderr",
     "output_type": "stream",
     "text": [
      "/home/mattreyes/anaconda3/lib/python3.5/site-packages/rpy2/rinterface/__init__.py:185: RRuntimeWarning: Loading required package: ggplot2\n",
      "\n",
      "  warnings.warn(x, RRuntimeWarning)\n"
     ]
    },
    {
     "data": {
      "text/plain": [
       "array([0], dtype=int32)"
      ]
     },
     "execution_count": 22,
     "metadata": {},
     "output_type": "execute_result"
    }
   ],
   "source": [
    "%R require(ggplot2)"
   ]
  },
  {
   "cell_type": "code",
   "execution_count": 14,
   "metadata": {
    "collapsed": false
   },
   "outputs": [
    {
     "ename": "NameError",
     "evalue": "name 'robjects' is not defined",
     "output_type": "error",
     "traceback": [
      "\u001b[1;31m\u001b[0m",
      "\u001b[1;31mNameError\u001b[0mTraceback (most recent call last)",
      "\u001b[1;32m<ipython-input-14-00041f59b20d>\u001b[0m in \u001b[0;36m<module>\u001b[1;34m()\u001b[0m\n\u001b[1;32m----> 1\u001b[1;33m \u001b[0mrobjects\u001b[0m\u001b[1;33m.\u001b[0m\u001b[0mr\u001b[0m\u001b[1;33m.\u001b[0m\u001b[0marray\u001b[0m\u001b[1;33m(\u001b[0m\u001b[1;33m[\u001b[0m\u001b[1;36m1\u001b[0m\u001b[1;33m]\u001b[0m\u001b[1;33m)\u001b[0m\u001b[1;33m\u001b[0m\u001b[0m\n\u001b[0m",
      "\u001b[1;31mNameError\u001b[0m: name 'robjects' is not defined"
     ]
    }
   ],
   "source": [
    "robjects.r.array([1])"
   ]
  },
  {
   "cell_type": "markdown",
   "metadata": {},
   "source": [
    "We begin with the following mixture model $f$\n",
    "$$f(x) = \\pi \\phi(x|\\mu_{1},\\sigma_{1}^{2}) + (1-\\pi)\\phi(x|\\mu_{2},\\sigma_{2}^{2})$$\n",
    "\n",
    "where $\\pi \\in [0,1]$.\n",
    "\n",
    "\n",
    "Given a dataset of $n$ observations we have that the likelihood function is\n",
    "\n",
    "$$\n",
    "L(\\mu_{1},\\sigma_{1}^{2},\\mu_{2},\\sigma_{2}^{2}|x) = \n",
    "\\prod_{i=1}^{n}[\\pi\\phi(x_{i}|\\mu_{1},\\sigma_{1}^{2}) + (1-\\pi)\\phi(x_{i}|\\mu_{2},\\sigma_{2}^{2})]\n",
    "$$"
   ]
  },
  {
   "cell_type": "markdown",
   "metadata": {},
   "source": [
    "# PSO Algorithm"
   ]
  },
  {
   "cell_type": "code",
   "execution_count": 24,
   "metadata": {
    "collapsed": false
   },
   "outputs": [],
   "source": [
    "class Particle:\n",
    "    def __init__(self,position,velocity):\n",
    "        self.position = position\n",
    "        self.velocity = velocity\n",
    "        self.pbest = position\n",
    "        self.current_fitness = 0\n",
    "        self.best_fitness = 0\n",
    "        self.num_parameters = len(self.position)\n",
    "    def update_position(self,gbest,\n",
    "                        use_boundary=False,\n",
    "                        lower_bound=None,\n",
    "                        upper_bound=None):              \n",
    "        c1 = 2\n",
    "        c2 = 2\n",
    "        r1 = np.random.rand(1)\n",
    "        r2 = np.random.rand(1)\n",
    "        delta = 2*r1*(self.pbest - self.position) + 2*r2*(gbest - self.position)\n",
    "        \n",
    "        upper_bound=np.zeros(self.num_parameters),\n",
    "        lower_bound=np.zeros(self.num_parameters)\n",
    "        \n",
    "        cond1 = delta <= upper_bound\n",
    "        cond2 = delta >= lower_bound\n",
    "        \n",
    "        if (use_boundary and cond1.all() and cond2.all()) or use_boundary==False:\n",
    "            self.velocity = self.velocity + delta\n",
    "            self.position = self.position + self.velocity\n",
    "    def _phi(self,x,mean,var):\n",
    "        k = math.sqrt(2*math.pi*var)\n",
    "        p = math.exp((x-mean)*(x-mean)/(-2*var))\n",
    "        return p/k\n",
    "    def _mix_dist(self,x,pi,mean1,mean2,var1,var2):\n",
    "        comp1 = pi*self._phi(x,mean1,var1)\n",
    "        comp2 = (1-pi)*self._phi(x,mean2,var2)\n",
    "        return comp1+comp2\n",
    "    def _gaussian_likelihood(self,x,pi,mean1,mean2,var1,var2):\n",
    "        # x is a vector of data\n",
    "        n = len(x)\n",
    "        p = 1\n",
    "        for i in range(0,n):\n",
    "            p = p * self._mix_dist(x[i],pi,mean1,mean2,var1,var2)\n",
    "        return p\n",
    "    def calculate_fitness(self,x,pi,mean1,mean2,var1,var2):\n",
    "        self.current_fitness = self._gaussian_likelihood(x,pi,mean1,mean2,var1,var2)\n",
    "        if self.current_fitness > self.best_fitness:\n",
    "            self.pbest = self.position\n",
    "            self.best_fitness = self.current_fitness"
   ]
  },
  {
   "cell_type": "code",
   "execution_count": 26,
   "metadata": {
    "collapsed": false
   },
   "outputs": [
    {
     "data": {
      "image/png": "[encoded data removed]",
      "text/plain": [
       "<matplotlib.figure.Figure at 0x97ebe10>"
      ]
     },
     "metadata": {},
     "output_type": "display_data"
    }
   ],
   "source": [
    "# Algorithm Parameters\n",
    "\n",
    "N = 100\n",
    "iterations = 50\n",
    "\n",
    "a = np.random.normal(0,1,700)\n",
    "b = np.random.normal(5,1,300)\n",
    "\n",
    "x = np.concatenate((a,b),axis=0)\n",
    "\n",
    "plt.hist(x)\n",
    "plt.show()\n",
    "\n",
    "data_min = min(x)\n",
    "data_max = max(x)\n",
    "lower_boundary = np.array([0,data_min,data_min,0,0])\n",
    "upper_boundary = np.array([1,data_max,data_max,10,10])    \n",
    "particles = [0] * N\n",
    "tolerance = 0.001"
   ]
  },
  {
   "cell_type": "code",
   "execution_count": 28,
   "metadata": {
    "collapsed": false
   },
   "outputs": [
    {
     "name": "stdout",
     "output_type": "stream",
     "text": [
      "iteration 0\n",
      "[ 0.29624916  5.7695375   0.88493903]\n",
      "0\n"
     ]
    }
   ],
   "source": [
    "# random intialization of particles\n",
    "\n",
    "np.random.seed(69)\n",
    "\n",
    "# estimating a weight parameter and mu parameter for each of the two gaussian components\n",
    "# posn[0] = weight\n",
    "# posn[1] = mu1\n",
    "# posn[2] = mu2\n",
    "\n",
    "for p in range(N):    \n",
    "    rand_pi = np.random.uniform(0,1)\n",
    "    rand_mean1 = np.random.uniform(data_min,data_max)\n",
    "    rand_mean2 = np.random.uniform(data_min,data_max)\n",
    "    sigma1 = 1\n",
    "    sigma2 = 1\n",
    "    rand_posn = np.array([rand_pi,rand_mean1,rand_mean2])\n",
    "    rand_velocity = np.array([np.random.uniform(0,1),\n",
    "                             np.random.uniform(0,1),\n",
    "                             np.random.uniform(0,1)])\n",
    "    \n",
    "    particles[p] = Particle(rand_posn,rand_velocity)\n",
    "    particles[p].calculate_fitness(x,rand_pi,rand_mean1,rand_mean2,sigma1,sigma2)\n",
    "\n",
    "gbest = max(particles,key=attrgetter('best_fitness'))    \n",
    "\n",
    "# repeat until convergence\n",
    "for i in range(iterations):\n",
    "    if i%100 == 0:\n",
    "        print(\"iteration \" + str(i))\n",
    "    for p in particles:\n",
    "        p.update_position(gbest.position,True,lower_boundary,upper_boundary)\n",
    "\n",
    "        params = p.position\n",
    "        pi = params[0]\n",
    "        mean1 = params[1]\n",
    "        mean2 = params[2]\n",
    "        sigma1 = 1\n",
    "        sigma2 = 1\n",
    "        p.calculate_fitness(x,pi,mean1,mean2,sigma1,sigma2)\n",
    "        gbest = max(particles,key=attrgetter('best_fitness'))    \n",
    "\n",
    "print(gbest.pbest)\n",
    "print(gbest.best_fitness)"
   ]
  },
  {
   "cell_type": "code",
   "execution_count": null,
   "metadata": {
    "collapsed": true
   },
   "outputs": [],
   "source": [
    "# next steps: \n",
    "# R generates data, passes to python\n",
    "# add sigma parameters\n",
    "# monte carlo: run algorithm multiple times \n",
    "# improve efficiency of likelihood calculation (mapreduce?)\n",
    "# plot the estimated mixture densities vs kde for EM and PSO\n"
   ]
  },
  {
   "cell_type": "markdown",
   "metadata": {},
   "source": [
    "# EM Algorithm"
   ]
  },
  {
   "cell_type": "code",
   "execution_count": 13,
   "metadata": {
    "collapsed": false
   },
   "outputs": [
    {
     "name": "stdout",
     "output_type": "stream",
     "text": [
      "iteration 0\n",
      "iteration 500\n",
      "iteration 1000\n",
      "iteration 1500\n",
      "iteration 2000\n",
      "iteration 2500\n",
      "iteration 3000\n",
      "iteration 3500\n",
      "iteration 4000\n",
      "iteration 4500\n",
      "iteration 5000\n",
      "iteration 5500\n",
      "iteration 6000\n",
      "iteration 6500\n",
      "iteration 7000\n",
      "iteration 7500\n",
      "iteration 8000\n",
      "iteration 8500\n",
      "iteration 9000\n",
      "iteration 9500\n",
      "0.0133605106794\n",
      "0.59808724982\n",
      "1.013045661925173\n",
      "6.04923234894\n",
      "0.40191275018\n",
      "3.0005750738509107\n"
     ]
    }
   ],
   "source": [
    "import math\n",
    "import numpy as np\n",
    "from matplotlib import pyplot as plt\n",
    "\n",
    "def em(data,num_iter=10000):\n",
    "    mu1 = 0\n",
    "    mu2 = 0\n",
    "    sd1 = 1\n",
    "    sd2 = 1\n",
    "    pi1 = 0.49\n",
    "    pi2 = 1 - pi1\n",
    "    n = len(data)\n",
    "    \n",
    "    def prob(x,mu,sd):\n",
    "        nator = np.vectorize(math.exp)(((x-mu)*(x-mu))/(-2*sd*sd))\n",
    "        dator = math.sqrt(2*math.pi)*sd\n",
    "        return (nator/dator)\n",
    "    def p1():\n",
    "        return prob(data,mu1,sd1)\n",
    "    def p2():\n",
    "        return prob(data,mu2,sd2)\n",
    "\n",
    "    for i in range(0,num_iter):\n",
    "        if i%500 == 0:\n",
    "            print('iteration ' + str(i))\n",
    "#         p1 = prob(data,mu1,sd2)\n",
    "        w = (pi1*p1()) / (pi1*p1()+pi2*p2())\n",
    "        n1 = np.sum(w)\n",
    "        n2 = n - n1\n",
    "        pi1 = n1 / n\n",
    "        pi2 = 1 - pi1\n",
    "\n",
    "        mu1 = (1/n1)*np.sum(w*data)\n",
    "        mu2 = (1/n2)*np.sum((1-w)*data)\n",
    "\n",
    "        sd1 = math.sqrt(np.sum(w*(data-mu1)*(data-mu1)) / n1   )\n",
    "        sd2 = math.sqrt((1/n2)*np.sum((1-w)*(data-mu2)*(data-mu2)))\n",
    "        \n",
    "    print(str(mu1))    \n",
    "    print(str(pi1))\n",
    "    print(str(sd1))\n",
    "    print(str(mu2)) # \n",
    "    print(str(pi2)) # did not change\n",
    "    print(str(sd2)) # correct\n",
    "\n",
    "np.random.seed(seed=420)\n",
    "x1 = np.random.normal(0,1,600)\n",
    "x2 = np.random.normal(6,3,400)\n",
    "x = np.append(x1,x2)\n",
    "# plt.hist(x)\n",
    "# plt.show()\n",
    "\n",
    "\n",
    "em(x)\n"
   ]
  },
  {
   "cell_type": "code",
   "execution_count": 4,
   "metadata": {
    "collapsed": false
   },
   "outputs": [
    {
     "name": "stdout",
     "output_type": "stream",
     "text": [
      "0.398942280401\n",
      "0.241970724519\n",
      "0.241970724519\n"
     ]
    },
    {
     "data": {
      "text/plain": [
       "array([ 0.3832846 ,  0.39281777,  0.38517172,  0.33081021,  0.3978133 ,\n",
       "        0.28606961])"
      ]
     },
     "execution_count": 4,
     "metadata": {},
     "output_type": "execute_result"
    }
   ],
   "source": [
    "def prob(x,mu,sd):\n",
    "    nator = np.vectorize(math.exp)(((x-mu)*(x-mu))/(-2*sd*sd))\n",
    "    dator = math.sqrt(2*math.pi)*sd\n",
    "    return (nator/dator)\n",
    "\n",
    "\n",
    "\n",
    "print(prob(0,0,1))\n",
    "print(prob(2,1,1))\n",
    "print(prob(-1,0,1))\n",
    "\n",
    "x = np.random.normal(0,1,6)\n",
    "prob(x,0,1)"
   ]
  }
 ],
 "metadata": {
  "kernelspec": {
   "display_name": "Python 3",
   "language": "python",
   "name": "python3"
  },
  "language_info": {
   "codemirror_mode": {
    "name": "ipython",
    "version": 3
   },
   "file_extension": ".py",
   "mimetype": "text/x-python",
   "name": "python",
   "nbconvert_exporter": "python",
   "pygments_lexer": "ipython3",
   "version": "3.4.3"
  }
 },
 "nbformat": 4,
 "nbformat_minor": 1
}
