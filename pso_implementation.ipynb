{
 "cells": [
  {
   "cell_type": "code",
   "execution_count": 15,
   "metadata": {
    "collapsed": false
   },
   "outputs": [],
   "source": [
    "import pandas as pd\n",
    "import numpy as np\n",
    "# import seaborn as sns\n",
    "from operator import attrgetter"
   ]
  },
  {
   "cell_type": "code",
   "execution_count": 17,
   "metadata": {
    "collapsed": false
   },
   "outputs": [],
   "source": [
    "# importing R dependencies\n",
    "import rpy2\n",
    "import readline\n",
    "import rpy2.robjects as robjects"
   ]
  },
  {
   "cell_type": "code",
   "execution_count": 18,
   "metadata": {
    "collapsed": false
   },
   "outputs": [
    {
     "name": "stdout",
     "output_type": "stream",
     "text": [
      "The rpy2.ipython extension is already loaded. To reload it, use:\n",
      "  %reload_ext rpy2.ipython\n"
     ]
    }
   ],
   "source": [
    "%load_ext rpy2.ipython"
   ]
  },
  {
   "cell_type": "code",
   "execution_count": 19,
   "metadata": {
    "collapsed": false
   },
   "outputs": [
    {
     "data": {
      "text/plain": [
       "array([ 3.14159265])"
      ]
     },
     "execution_count": 19,
     "metadata": {},
     "output_type": "execute_result"
    }
   ],
   "source": [
    "robjects.r('pi')"
   ]
  },
  {
   "cell_type": "code",
   "execution_count": 22,
   "metadata": {
    "collapsed": false
   },
   "outputs": [
    {
     "name": "stderr",
     "output_type": "stream",
     "text": [
      "/home/mattreyes/anaconda3/lib/python3.5/site-packages/rpy2/rinterface/__init__.py:185: RRuntimeWarning: Loading required package: ggplot2\n",
      "\n",
      "  warnings.warn(x, RRuntimeWarning)\n"
     ]
    },
    {
     "data": {
      "text/plain": [
       "array([0], dtype=int32)"
      ]
     },
     "execution_count": 22,
     "metadata": {},
     "output_type": "execute_result"
    }
   ],
   "source": [
    "%R require(ggplot2)"
   ]
  },
  {
   "cell_type": "code",
   "execution_count": 26,
   "metadata": {
    "collapsed": false
   },
   "outputs": [
    {
     "data": {
      "text/plain": [
       "R object with classes: ('array',) mapped to:\n",
       "<Array - Python:0x7fa50d6e4dc8 / R:0x30a3b38>\n",
       "[IntVector]"
      ]
     },
     "execution_count": 26,
     "metadata": {},
     "output_type": "execute_result"
    }
   ],
   "source": [
    "robjects.r.array([1])"
   ]
  },
  {
   "cell_type": "markdown",
   "metadata": {},
   "source": [
    "We begin with the following mixture model $f$\n",
    "$$f(x) = \\pi \\phi(x|\\mu_{1},\\sigma_{1}^{2}) + (1-\\pi)\\phi(x|\\mu_{2},\\sigma_{2}^{2})$$\n",
    "\n",
    "where $\\pi \\in [0,1]$.\n",
    "\n",
    "\n",
    "Given a dataset of $n$ observations we have that the likelihood function is\n",
    "\n",
    "$$\n",
    "L(\\mu_{1},\\sigma_{1}^{2},\\mu_{2},\\sigma_{2}^{2}|x) = \n",
    "\\prod_{i=1}^{n}[\\pi\\phi(x_{i}|\\mu_{1},\\sigma_{1}^{2}) + (1-\\pi)\\phi(x_{i}|\\mu_{2},\\sigma_{2}^{2})]\n",
    "$$"
   ]
  },
  {
   "cell_type": "markdown",
   "metadata": {},
   "source": [
    "# Algorithm"
   ]
  },
  {
   "cell_type": "code",
   "execution_count": 381,
   "metadata": {
    "collapsed": false
   },
   "outputs": [],
   "source": [
    "class Particle:\n",
    "    def __init__(self,position,velocity):\n",
    "        self.position = position\n",
    "        self.velocity = velocity\n",
    "        self.pbest = position\n",
    "        self.current_fitness = 0\n",
    "        self.best_fitness = 0\n",
    "        self.num_parameters = len(self.position)\n",
    "    def update_position(self,gbest,\n",
    "                        use_boundary=False,\n",
    "                        lower_bound=None,\n",
    "                        upper_bound=None):\n",
    "                        \n",
    "        c1 = 2\n",
    "        c2 = 2\n",
    "        r1 = np.random.rand(1)\n",
    "        r2 = np.random.rand(1)\n",
    "        delta = 2*r1*(self.pbest - self.position) + 2*r2*(gbest - self.position)\n",
    "        \n",
    "        upper_bound=np.zeros(self.num_parameters),\n",
    "        lower_bound=np.zeros(self.num_parameters)\n",
    "        \n",
    "        cond1 = delta <= upper_bound\n",
    "        cond2 = delta >= lower_bound\n",
    "        \n",
    "        if (use_boundary and cond1.all() and cond2.all()) or use_boundary==False:\n",
    "            self.velocity = self.velocity + delta\n",
    "            self.position = self.position + self.velocity\n",
    "    def calculate_fitness(self):\n",
    "        self.current_fitness = self._gaussian_likelihood(self.position)\n",
    "        if self.current_fitness > self.best_fitness:\n",
    "            self.pbest = self.position\n",
    "            self.best_fitness = self.current_fitness\n",
    "    def _gaussian_likelihood(self,position):\n",
    "        return np.sum(self.position)\n",
    "        "
   ]
  },
  {
   "cell_type": "code",
   "execution_count": 349,
   "metadata": {
    "collapsed": false
   },
   "outputs": [
    {
     "data": {
      "text/plain": [
       "array([ 0.98228976,  1.08228976])"
      ]
     },
     "execution_count": 349,
     "metadata": {},
     "output_type": "execute_result"
    }
   ],
   "source": [
    "# test particle\n",
    "a = Particle(np.array([0,0]),np.array([0.1,0.2]))\n",
    "a.calculate_fitness()\n",
    "a.update_position(np.array([1,1]),False)\n",
    "a.calculate_fitness()\n",
    "a.position"
   ]
  },
  {
   "cell_type": "code",
   "execution_count": 379,
   "metadata": {
    "collapsed": false
   },
   "outputs": [
    {
     "name": "stdout",
     "output_type": "stream",
     "text": [
      "[   0.73268781  198.90201298]\n",
      "199.634700791\n"
     ]
    }
   ],
   "source": [
    "# Algorithm\n",
    "\n",
    "N = 2000\n",
    "iterations = 10000\n",
    "    \n",
    "data_min = -2\n",
    "data_max = 199\n",
    "lower_boundary = np.array([0,data_min])\n",
    "upper_boundary = np.array([1,data_max])    \n",
    "particles = [0] * N\n",
    "tolerance = 0.001\n",
    "\n",
    "# random intialization of particles\n",
    "\n",
    "# estimating two parameters for each of the two gaussian components\n",
    "# posn[0] = weight\n",
    "# posn[1] = mean\n",
    "\n",
    "for p in range(N):    \n",
    "    rand_posn = np.array([np.random.uniform(0,1),\n",
    "                         np.random.uniform(data_min,data_max)])\n",
    "    rand_velocity = np.array([np.random.uniform(0,1),\n",
    "                             np.random.uniform(0,1)])\n",
    "    particles[p] = Particle(rand_posn,rand_velocity)\n",
    "    particles[p].calculate_fitness()\n",
    "    \n",
    "# repeat until convergence\n",
    "gbest = max(particles,key=attrgetter('best_fitness'))    \n",
    "\n",
    "for p in particles:\n",
    "    p.update_position(gbest.position,False,lower_boundary,upper_boundary)\n",
    "    gbest = max(particles,key=attrgetter('best_fitness'))    \n",
    "print(gbest.pbest)\n",
    "print(gbest.best_fitness)\n",
    "\n"
   ]
  }
 ],
 "metadata": {
  "kernelspec": {
   "display_name": "Python 3",
   "language": "python",
   "name": "python3"
  },
  "language_info": {
   "codemirror_mode": {
    "name": "ipython",
    "version": 3
   },
   "file_extension": ".py",
   "mimetype": "text/x-python",
   "name": "python",
   "nbconvert_exporter": "python",
   "pygments_lexer": "ipython3",
   "version": "3.4.3"
  }
 },
 "nbformat": 4,
 "nbformat_minor": 1
}
